{
 "cells": [
  {
   "cell_type": "code",
   "execution_count": 17,
   "metadata": {
    "id": "DsQEtqWX0EBR"
   },
   "outputs": [],
   "source": [
    "import numpy as np\n",
    "import pandas as pd\n",
    "import matplotlib.pyplot as plt\n",
    "import seaborn as sns"
   ]
  },
  {
   "cell_type": "code",
   "execution_count": 18,
   "metadata": {
    "colab": {
     "base_uri": "https://localhost:8080/",
     "height": 295
    },
    "id": "MP9AR21sbOzf",
    "outputId": "a021d7f6-562e-4125-a427-0c3fc3e5cf01"
   },
   "outputs": [
    {
     "data": {
      "text/html": [
       "<div>\n",
       "<style scoped>\n",
       "    .dataframe tbody tr th:only-of-type {\n",
       "        vertical-align: middle;\n",
       "    }\n",
       "\n",
       "    .dataframe tbody tr th {\n",
       "        vertical-align: top;\n",
       "    }\n",
       "\n",
       "    .dataframe thead th {\n",
       "        text-align: right;\n",
       "    }\n",
       "</style>\n",
       "<table border=\"1\" class=\"dataframe\">\n",
       "  <thead>\n",
       "    <tr style=\"text-align: right;\">\n",
       "      <th></th>\n",
       "      <th>country</th>\n",
       "      <th>electricity_access</th>\n",
       "      <th>gdp</th>\n",
       "      <th>gdp_capita</th>\n",
       "      <th>labor_rate</th>\n",
       "      <th>labor_force</th>\n",
       "      <th>land_area</th>\n",
       "      <th>life_expectancy</th>\n",
       "      <th>adult_literacy</th>\n",
       "      <th>water_access</th>\n",
       "      <th>air_pollution</th>\n",
       "      <th>population_density</th>\n",
       "      <th>population</th>\n",
       "      <th>alcohol_consumption</th>\n",
       "      <th>unemployment_rate</th>\n",
       "      <th>social_support</th>\n",
       "      <th>freedom</th>\n",
       "      <th>generosity</th>\n",
       "      <th>income_class</th>\n",
       "      <th>cpi</th>\n",
       "    </tr>\n",
       "  </thead>\n",
       "  <tbody>\n",
       "    <tr>\n",
       "      <th>0</th>\n",
       "      <td>Afghanistan</td>\n",
       "      <td>90.08</td>\n",
       "      <td>1.883323e+10</td>\n",
       "      <td>536.23</td>\n",
       "      <td>47.28</td>\n",
       "      <td>9103245.75</td>\n",
       "      <td>652230.0</td>\n",
       "      <td>62.97</td>\n",
       "      <td>NaN</td>\n",
       "      <td>66.61</td>\n",
       "      <td>100.00</td>\n",
       "      <td>53.94</td>\n",
       "      <td>35179977.00</td>\n",
       "      <td>0.0087</td>\n",
       "      <td>10.341</td>\n",
       "      <td>0.522</td>\n",
       "      <td>0.428</td>\n",
       "      <td>-0.014</td>\n",
       "      <td>Low income</td>\n",
       "      <td>14.25</td>\n",
       "    </tr>\n",
       "    <tr>\n",
       "      <th>1</th>\n",
       "      <td>Albania</td>\n",
       "      <td>99.94</td>\n",
       "      <td>1.285605e+10</td>\n",
       "      <td>4473.89</td>\n",
       "      <td>57.54</td>\n",
       "      <td>1362512.25</td>\n",
       "      <td>27400.0</td>\n",
       "      <td>78.93</td>\n",
       "      <td>98.14</td>\n",
       "      <td>93.92</td>\n",
       "      <td>100.00</td>\n",
       "      <td>104.90</td>\n",
       "      <td>2874159.25</td>\n",
       "      <td>5.0375</td>\n",
       "      <td>14.633</td>\n",
       "      <td>0.650</td>\n",
       "      <td>0.752</td>\n",
       "      <td>-0.033</td>\n",
       "      <td>Upper middle income</td>\n",
       "      <td>37.25</td>\n",
       "    </tr>\n",
       "    <tr>\n",
       "      <th>2</th>\n",
       "      <td>Algeria</td>\n",
       "      <td>99.49</td>\n",
       "      <td>1.677553e+11</td>\n",
       "      <td>4117.84</td>\n",
       "      <td>41.79</td>\n",
       "      <td>11979207.50</td>\n",
       "      <td>2381741.0</td>\n",
       "      <td>75.79</td>\n",
       "      <td>81.41</td>\n",
       "      <td>93.73</td>\n",
       "      <td>100.00</td>\n",
       "      <td>17.10</td>\n",
       "      <td>40736509.00</td>\n",
       "      <td>0.5844</td>\n",
       "      <td>10.540</td>\n",
       "      <td>0.785</td>\n",
       "      <td>0.510</td>\n",
       "      <td>-0.182</td>\n",
       "      <td>Lower middle income</td>\n",
       "      <td>34.50</td>\n",
       "    </tr>\n",
       "    <tr>\n",
       "      <th>3</th>\n",
       "      <td>Angola</td>\n",
       "      <td>43.00</td>\n",
       "      <td>7.095638e+10</td>\n",
       "      <td>2395.27</td>\n",
       "      <td>77.28</td>\n",
       "      <td>12467594.50</td>\n",
       "      <td>1246700.0</td>\n",
       "      <td>61.39</td>\n",
       "      <td>NaN</td>\n",
       "      <td>55.46</td>\n",
       "      <td>100.00</td>\n",
       "      <td>23.82</td>\n",
       "      <td>29691157.00</td>\n",
       "      <td>7.7588</td>\n",
       "      <td>9.557</td>\n",
       "      <td>NaN</td>\n",
       "      <td>NaN</td>\n",
       "      <td>NaN</td>\n",
       "      <td>Lower middle income</td>\n",
       "      <td>17.75</td>\n",
       "    </tr>\n",
       "    <tr>\n",
       "      <th>4</th>\n",
       "      <td>Argentina</td>\n",
       "      <td>99.90</td>\n",
       "      <td>5.801825e+11</td>\n",
       "      <td>13246.88</td>\n",
       "      <td>59.17</td>\n",
       "      <td>19579367.75</td>\n",
       "      <td>2736690.0</td>\n",
       "      <td>76.73</td>\n",
       "      <td>99.10</td>\n",
       "      <td>99.01</td>\n",
       "      <td>95.34</td>\n",
       "      <td>16.01</td>\n",
       "      <td>43815411.75</td>\n",
       "      <td>8.5713</td>\n",
       "      <td>8.301</td>\n",
       "      <td>0.904</td>\n",
       "      <td>0.852</td>\n",
       "      <td>-0.187</td>\n",
       "      <td>Upper middle income</td>\n",
       "      <td>36.75</td>\n",
       "    </tr>\n",
       "  </tbody>\n",
       "</table>\n",
       "</div>"
      ],
      "text/plain": [
       "       country  electricity_access           gdp  gdp_capita  labor_rate  \\\n",
       "0  Afghanistan               90.08  1.883323e+10      536.23       47.28   \n",
       "1      Albania               99.94  1.285605e+10     4473.89       57.54   \n",
       "2      Algeria               99.49  1.677553e+11     4117.84       41.79   \n",
       "3       Angola               43.00  7.095638e+10     2395.27       77.28   \n",
       "4    Argentina               99.90  5.801825e+11    13246.88       59.17   \n",
       "\n",
       "   labor_force  land_area  life_expectancy  adult_literacy  water_access  \\\n",
       "0   9103245.75   652230.0            62.97             NaN         66.61   \n",
       "1   1362512.25    27400.0            78.93           98.14         93.92   \n",
       "2  11979207.50  2381741.0            75.79           81.41         93.73   \n",
       "3  12467594.50  1246700.0            61.39             NaN         55.46   \n",
       "4  19579367.75  2736690.0            76.73           99.10         99.01   \n",
       "\n",
       "   air_pollution  population_density   population  alcohol_consumption  \\\n",
       "0         100.00               53.94  35179977.00               0.0087   \n",
       "1         100.00              104.90   2874159.25               5.0375   \n",
       "2         100.00               17.10  40736509.00               0.5844   \n",
       "3         100.00               23.82  29691157.00               7.7588   \n",
       "4          95.34               16.01  43815411.75               8.5713   \n",
       "\n",
       "   unemployment_rate  social_support  freedom  generosity  \\\n",
       "0             10.341           0.522    0.428      -0.014   \n",
       "1             14.633           0.650    0.752      -0.033   \n",
       "2             10.540           0.785    0.510      -0.182   \n",
       "3              9.557             NaN      NaN         NaN   \n",
       "4              8.301           0.904    0.852      -0.187   \n",
       "\n",
       "          income_class    cpi  \n",
       "0           Low income  14.25  \n",
       "1  Upper middle income  37.25  \n",
       "2  Lower middle income  34.50  \n",
       "3  Lower middle income  17.75  \n",
       "4  Upper middle income  36.75  "
      ]
     },
     "execution_count": 18,
     "metadata": {},
     "output_type": "execute_result"
    }
   ],
   "source": [
    "df=pd.read_csv('worlddata.csv')\n",
    "df.head()"
   ]
  },
  {
   "cell_type": "code",
   "execution_count": 19,
   "metadata": {
    "colab": {
     "base_uri": "https://localhost:8080/"
    },
    "id": "L-nHL7w7iA_C",
    "outputId": "553b3b04-4707-49a2-a6c7-af711b2168b6"
   },
   "outputs": [
    {
     "data": {
      "text/plain": [
       "['United States',\n",
       " 100.0,\n",
       " 19227881361000.0,\n",
       " 59340.13,\n",
       " 62.24,\n",
       " 163092971.8,\n",
       " 9147420.0,\n",
       " 78.6,\n",
       " nan,\n",
       " 99.55,\n",
       " 5.05,\n",
       " 35.41,\n",
       " 323942769.0,\n",
       " 9.4859,\n",
       " 4.603,\n",
       " 0.906,\n",
       " 0.825,\n",
       " 0.161,\n",
       " 'High income',\n",
       " 74.0]"
      ]
     },
     "execution_count": 19,
     "metadata": {},
     "output_type": "execute_result"
    }
   ],
   "source": [
    "list(df.iloc[177,:])"
   ]
  },
  {
   "cell_type": "code",
   "execution_count": 20,
   "metadata": {
    "colab": {
     "base_uri": "https://localhost:8080/"
    },
    "id": "B4PllBU3baMD",
    "outputId": "95c5f4d5-c263-4541-9ddf-c94b44caa23a"
   },
   "outputs": [
    {
     "data": {
      "text/plain": [
       "(186, 20)"
      ]
     },
     "execution_count": 20,
     "metadata": {},
     "output_type": "execute_result"
    }
   ],
   "source": [
    "df.shape"
   ]
  },
  {
   "cell_type": "code",
   "execution_count": 21,
   "metadata": {
    "colab": {
     "base_uri": "https://localhost:8080/"
    },
    "id": "FDEX7RWLbgwE",
    "outputId": "942bcb6d-fd7f-46ea-d3b1-f06277f05c08"
   },
   "outputs": [
    {
     "name": "stdout",
     "output_type": "stream",
     "text": [
      "<class 'pandas.core.frame.DataFrame'>\n",
      "RangeIndex: 186 entries, 0 to 185\n",
      "Data columns (total 20 columns):\n",
      " #   Column               Non-Null Count  Dtype  \n",
      "---  ------               --------------  -----  \n",
      " 0   country              186 non-null    object \n",
      " 1   electricity_access   185 non-null    float64\n",
      " 2   gdp                  183 non-null    float64\n",
      " 3   gdp_capita           183 non-null    float64\n",
      " 4   labor_rate           182 non-null    float64\n",
      " 5   labor_force          182 non-null    float64\n",
      " 6   land_area            185 non-null    float64\n",
      " 7   life_expectancy      186 non-null    float64\n",
      " 8   adult_literacy       113 non-null    float64\n",
      " 9   water_access         184 non-null    float64\n",
      " 10  air_pollution        183 non-null    float64\n",
      " 11  population_density   185 non-null    float64\n",
      " 12  population           186 non-null    float64\n",
      " 13  alcohol_consumption  180 non-null    float64\n",
      " 14  unemployment_rate    182 non-null    float64\n",
      " 15  social_support       153 non-null    float64\n",
      " 16  freedom              153 non-null    float64\n",
      " 17  generosity           152 non-null    float64\n",
      " 18  income_class         186 non-null    object \n",
      " 19  cpi                  179 non-null    float64\n",
      "dtypes: float64(18), object(2)\n",
      "memory usage: 29.2+ KB\n"
     ]
    }
   ],
   "source": [
    "df.info()"
   ]
  },
  {
   "cell_type": "code",
   "execution_count": 22,
   "metadata": {
    "colab": {
     "base_uri": "https://localhost:8080/",
     "height": 320
    },
    "id": "SrXNSBFrbhOx",
    "outputId": "f92066d3-e472-4bd5-ee8e-4e6f1e47d167"
   },
   "outputs": [
    {
     "data": {
      "text/html": [
       "<div>\n",
       "<style scoped>\n",
       "    .dataframe tbody tr th:only-of-type {\n",
       "        vertical-align: middle;\n",
       "    }\n",
       "\n",
       "    .dataframe tbody tr th {\n",
       "        vertical-align: top;\n",
       "    }\n",
       "\n",
       "    .dataframe thead th {\n",
       "        text-align: right;\n",
       "    }\n",
       "</style>\n",
       "<table border=\"1\" class=\"dataframe\">\n",
       "  <thead>\n",
       "    <tr style=\"text-align: right;\">\n",
       "      <th></th>\n",
       "      <th>electricity_access</th>\n",
       "      <th>gdp</th>\n",
       "      <th>gdp_capita</th>\n",
       "      <th>labor_rate</th>\n",
       "      <th>labor_force</th>\n",
       "      <th>land_area</th>\n",
       "      <th>life_expectancy</th>\n",
       "      <th>adult_literacy</th>\n",
       "      <th>water_access</th>\n",
       "      <th>air_pollution</th>\n",
       "      <th>population_density</th>\n",
       "      <th>population</th>\n",
       "      <th>alcohol_consumption</th>\n",
       "      <th>unemployment_rate</th>\n",
       "      <th>social_support</th>\n",
       "      <th>freedom</th>\n",
       "      <th>generosity</th>\n",
       "      <th>cpi</th>\n",
       "    </tr>\n",
       "  </thead>\n",
       "  <tbody>\n",
       "    <tr>\n",
       "      <th>count</th>\n",
       "      <td>185.000000</td>\n",
       "      <td>1.830000e+02</td>\n",
       "      <td>183.000000</td>\n",
       "      <td>182.000000</td>\n",
       "      <td>1.820000e+02</td>\n",
       "      <td>1.850000e+02</td>\n",
       "      <td>186.000000</td>\n",
       "      <td>113.000000</td>\n",
       "      <td>184.000000</td>\n",
       "      <td>183.000000</td>\n",
       "      <td>185.000000</td>\n",
       "      <td>1.860000e+02</td>\n",
       "      <td>180.000000</td>\n",
       "      <td>182.000000</td>\n",
       "      <td>153.000000</td>\n",
       "      <td>153.000000</td>\n",
       "      <td>152.000000</td>\n",
       "      <td>179.000000</td>\n",
       "    </tr>\n",
       "    <tr>\n",
       "      <th>mean</th>\n",
       "      <td>82.272108</td>\n",
       "      <td>4.311853e+11</td>\n",
       "      <td>13633.945410</td>\n",
       "      <td>60.707857</td>\n",
       "      <td>1.832794e+07</td>\n",
       "      <td>6.998146e+05</td>\n",
       "      <td>71.962903</td>\n",
       "      <td>82.017876</td>\n",
       "      <td>86.880380</td>\n",
       "      <td>89.973388</td>\n",
       "      <td>230.889676</td>\n",
       "      <td>4.034273e+07</td>\n",
       "      <td>5.525124</td>\n",
       "      <td>7.614220</td>\n",
       "      <td>0.798758</td>\n",
       "      <td>0.768497</td>\n",
       "      <td>-0.001309</td>\n",
       "      <td>42.922737</td>\n",
       "    </tr>\n",
       "    <tr>\n",
       "      <th>std</th>\n",
       "      <td>27.147820</td>\n",
       "      <td>1.764668e+12</td>\n",
       "      <td>18657.601047</td>\n",
       "      <td>10.140228</td>\n",
       "      <td>6.972304e+07</td>\n",
       "      <td>1.874443e+06</td>\n",
       "      <td>7.807983</td>\n",
       "      <td>19.210299</td>\n",
       "      <td>16.633771</td>\n",
       "      <td>26.248765</td>\n",
       "      <td>795.792421</td>\n",
       "      <td>1.464213e+08</td>\n",
       "      <td>4.084872</td>\n",
       "      <td>5.579226</td>\n",
       "      <td>0.126225</td>\n",
       "      <td>0.123051</td>\n",
       "      <td>0.150694</td>\n",
       "      <td>19.294445</td>\n",
       "    </tr>\n",
       "    <tr>\n",
       "      <th>min</th>\n",
       "      <td>5.150000</td>\n",
       "      <td>3.623574e+08</td>\n",
       "      <td>252.030000</td>\n",
       "      <td>32.310000</td>\n",
       "      <td>3.639200e+04</td>\n",
       "      <td>3.000000e+02</td>\n",
       "      <td>52.190000</td>\n",
       "      <td>24.160000</td>\n",
       "      <td>36.080000</td>\n",
       "      <td>0.000000</td>\n",
       "      <td>1.970000</td>\n",
       "      <td>7.032700e+04</td>\n",
       "      <td>0.000000</td>\n",
       "      <td>0.143000</td>\n",
       "      <td>0.305000</td>\n",
       "      <td>0.428000</td>\n",
       "      <td>-0.291000</td>\n",
       "      <td>9.250000</td>\n",
       "    </tr>\n",
       "    <tr>\n",
       "      <th>25%</th>\n",
       "      <td>68.750000</td>\n",
       "      <td>1.149492e+10</td>\n",
       "      <td>2000.545000</td>\n",
       "      <td>55.267500</td>\n",
       "      <td>1.292307e+06</td>\n",
       "      <td>2.805000e+04</td>\n",
       "      <td>65.902500</td>\n",
       "      <td>73.220000</td>\n",
       "      <td>78.117500</td>\n",
       "      <td>99.460000</td>\n",
       "      <td>31.360000</td>\n",
       "      <td>2.660390e+06</td>\n",
       "      <td>1.751350</td>\n",
       "      <td>3.731000</td>\n",
       "      <td>0.730000</td>\n",
       "      <td>0.693000</td>\n",
       "      <td>-0.112500</td>\n",
       "      <td>28.750000</td>\n",
       "    </tr>\n",
       "    <tr>\n",
       "      <th>50%</th>\n",
       "      <td>99.090000</td>\n",
       "      <td>4.016000e+10</td>\n",
       "      <td>5788.110000</td>\n",
       "      <td>60.685000</td>\n",
       "      <td>4.145528e+06</td>\n",
       "      <td>1.387900e+05</td>\n",
       "      <td>73.425000</td>\n",
       "      <td>91.530000</td>\n",
       "      <td>94.460000</td>\n",
       "      <td>100.000000</td>\n",
       "      <td>80.490000</td>\n",
       "      <td>9.243482e+06</td>\n",
       "      <td>5.095950</td>\n",
       "      <td>5.709500</td>\n",
       "      <td>0.822000</td>\n",
       "      <td>0.785000</td>\n",
       "      <td>-0.013500</td>\n",
       "      <td>37.750000</td>\n",
       "    </tr>\n",
       "    <tr>\n",
       "      <th>75%</th>\n",
       "      <td>100.000000</td>\n",
       "      <td>2.151782e+11</td>\n",
       "      <td>17083.175000</td>\n",
       "      <td>65.997500</td>\n",
       "      <td>1.222856e+07</td>\n",
       "      <td>5.667300e+05</td>\n",
       "      <td>77.772500</td>\n",
       "      <td>96.840000</td>\n",
       "      <td>99.222500</td>\n",
       "      <td>100.000000</td>\n",
       "      <td>187.190000</td>\n",
       "      <td>2.968183e+07</td>\n",
       "      <td>8.651975</td>\n",
       "      <td>10.218750</td>\n",
       "      <td>0.901000</td>\n",
       "      <td>0.861000</td>\n",
       "      <td>0.096500</td>\n",
       "      <td>56.585000</td>\n",
       "    </tr>\n",
       "    <tr>\n",
       "      <th>max</th>\n",
       "      <td>100.000000</td>\n",
       "      <td>1.922788e+13</td>\n",
       "      <td>109835.260000</td>\n",
       "      <td>87.470000</td>\n",
       "      <td>7.790468e+08</td>\n",
       "      <td>1.637687e+07</td>\n",
       "      <td>84.530000</td>\n",
       "      <td>100.000000</td>\n",
       "      <td>100.000000</td>\n",
       "      <td>100.000000</td>\n",
       "      <td>7873.790000</td>\n",
       "      <td>1.391656e+09</td>\n",
       "      <td>16.852000</td>\n",
       "      <td>26.186000</td>\n",
       "      <td>0.977000</td>\n",
       "      <td>0.980000</td>\n",
       "      <td>0.606000</td>\n",
       "      <td>89.250000</td>\n",
       "    </tr>\n",
       "  </tbody>\n",
       "</table>\n",
       "</div>"
      ],
      "text/plain": [
       "       electricity_access           gdp     gdp_capita  labor_rate  \\\n",
       "count          185.000000  1.830000e+02     183.000000  182.000000   \n",
       "mean            82.272108  4.311853e+11   13633.945410   60.707857   \n",
       "std             27.147820  1.764668e+12   18657.601047   10.140228   \n",
       "min              5.150000  3.623574e+08     252.030000   32.310000   \n",
       "25%             68.750000  1.149492e+10    2000.545000   55.267500   \n",
       "50%             99.090000  4.016000e+10    5788.110000   60.685000   \n",
       "75%            100.000000  2.151782e+11   17083.175000   65.997500   \n",
       "max            100.000000  1.922788e+13  109835.260000   87.470000   \n",
       "\n",
       "        labor_force     land_area  life_expectancy  adult_literacy  \\\n",
       "count  1.820000e+02  1.850000e+02       186.000000      113.000000   \n",
       "mean   1.832794e+07  6.998146e+05        71.962903       82.017876   \n",
       "std    6.972304e+07  1.874443e+06         7.807983       19.210299   \n",
       "min    3.639200e+04  3.000000e+02        52.190000       24.160000   \n",
       "25%    1.292307e+06  2.805000e+04        65.902500       73.220000   \n",
       "50%    4.145528e+06  1.387900e+05        73.425000       91.530000   \n",
       "75%    1.222856e+07  5.667300e+05        77.772500       96.840000   \n",
       "max    7.790468e+08  1.637687e+07        84.530000      100.000000   \n",
       "\n",
       "       water_access  air_pollution  population_density    population  \\\n",
       "count    184.000000     183.000000          185.000000  1.860000e+02   \n",
       "mean      86.880380      89.973388          230.889676  4.034273e+07   \n",
       "std       16.633771      26.248765          795.792421  1.464213e+08   \n",
       "min       36.080000       0.000000            1.970000  7.032700e+04   \n",
       "25%       78.117500      99.460000           31.360000  2.660390e+06   \n",
       "50%       94.460000     100.000000           80.490000  9.243482e+06   \n",
       "75%       99.222500     100.000000          187.190000  2.968183e+07   \n",
       "max      100.000000     100.000000         7873.790000  1.391656e+09   \n",
       "\n",
       "       alcohol_consumption  unemployment_rate  social_support     freedom  \\\n",
       "count           180.000000         182.000000      153.000000  153.000000   \n",
       "mean              5.525124           7.614220        0.798758    0.768497   \n",
       "std               4.084872           5.579226        0.126225    0.123051   \n",
       "min               0.000000           0.143000        0.305000    0.428000   \n",
       "25%               1.751350           3.731000        0.730000    0.693000   \n",
       "50%               5.095950           5.709500        0.822000    0.785000   \n",
       "75%               8.651975          10.218750        0.901000    0.861000   \n",
       "max              16.852000          26.186000        0.977000    0.980000   \n",
       "\n",
       "       generosity         cpi  \n",
       "count  152.000000  179.000000  \n",
       "mean    -0.001309   42.922737  \n",
       "std      0.150694   19.294445  \n",
       "min     -0.291000    9.250000  \n",
       "25%     -0.112500   28.750000  \n",
       "50%     -0.013500   37.750000  \n",
       "75%      0.096500   56.585000  \n",
       "max      0.606000   89.250000  "
      ]
     },
     "execution_count": 22,
     "metadata": {},
     "output_type": "execute_result"
    }
   ],
   "source": [
    "df.describe()"
   ]
  },
  {
   "cell_type": "code",
   "execution_count": 23,
   "metadata": {
    "colab": {
     "base_uri": "https://localhost:8080/"
    },
    "id": "sS-wslbHbwmi",
    "outputId": "1e9c5800-1809-4a44-bf0c-ec6da4581e8f"
   },
   "outputs": [
    {
     "data": {
      "text/plain": [
       "Index(['country', 'electricity_access', 'gdp', 'gdp_capita', 'labor_rate',\n",
       "       'labor_force', 'land_area', 'life_expectancy', 'adult_literacy',\n",
       "       'water_access', 'air_pollution', 'population_density', 'population',\n",
       "       'alcohol_consumption', 'unemployment_rate', 'social_support', 'freedom',\n",
       "       'generosity', 'income_class', 'cpi'],\n",
       "      dtype='object')"
      ]
     },
     "execution_count": 23,
     "metadata": {},
     "output_type": "execute_result"
    }
   ],
   "source": [
    "df.columns"
   ]
  },
  {
   "cell_type": "code",
   "execution_count": 24,
   "metadata": {
    "colab": {
     "base_uri": "https://localhost:8080/"
    },
    "id": "bhYQwX0kb76m",
    "outputId": "c4360b0c-f28e-4243-d49f-9ba7906e3120"
   },
   "outputs": [
    {
     "data": {
      "text/plain": [
       "['country', 'income_class']"
      ]
     },
     "execution_count": 24,
     "metadata": {},
     "output_type": "execute_result"
    }
   ],
   "source": [
    "#find the columns name having catagorical values\n",
    "categorical_features=[]\n",
    "for columns in df.columns:\n",
    "  if df[columns].dtype=='O':\n",
    "    categorical_features.append(columns)\n",
    "categorical_features"
   ]
  },
  {
   "cell_type": "code",
   "execution_count": 25,
   "metadata": {
    "colab": {
     "base_uri": "https://localhost:8080/"
    },
    "id": "Qp6hmx_NcCIV",
    "outputId": "689aafa8-7838-4b66-c64e-e0359063103a"
   },
   "outputs": [
    {
     "data": {
      "text/plain": [
       "['electricity_access',\n",
       " 'gdp',\n",
       " 'gdp_capita',\n",
       " 'labor_rate',\n",
       " 'labor_force',\n",
       " 'land_area',\n",
       " 'life_expectancy',\n",
       " 'adult_literacy',\n",
       " 'water_access',\n",
       " 'air_pollution',\n",
       " 'population_density',\n",
       " 'population',\n",
       " 'alcohol_consumption',\n",
       " 'unemployment_rate',\n",
       " 'social_support',\n",
       " 'freedom',\n",
       " 'generosity',\n",
       " 'cpi']"
      ]
     },
     "execution_count": 25,
     "metadata": {},
     "output_type": "execute_result"
    }
   ],
   "source": [
    "#find the columns name having numerical values\n",
    "numerical_features=[]\n",
    "for columns in df.columns:\n",
    "  if df[columns].dtype!='O':\n",
    "    numerical_features.append(columns)\n",
    "numerical_features"
   ]
  },
  {
   "cell_type": "code",
   "execution_count": 26,
   "metadata": {
    "colab": {
     "base_uri": "https://localhost:8080/",
     "height": 988
    },
    "id": "Q1g2CarpcHvU",
    "outputId": "264f6283-4ba7-44f3-f775-cb7dc0e63f54"
   },
   "outputs": [
    {
     "data": {
      "text/plain": [
       "array([[<Axes: title={'center': 'electricity_access'}>,\n",
       "        <Axes: title={'center': 'gdp'}>,\n",
       "        <Axes: title={'center': 'gdp_capita'}>,\n",
       "        <Axes: title={'center': 'labor_rate'}>],\n",
       "       [<Axes: title={'center': 'labor_force'}>,\n",
       "        <Axes: title={'center': 'land_area'}>,\n",
       "        <Axes: title={'center': 'life_expectancy'}>,\n",
       "        <Axes: title={'center': 'adult_literacy'}>],\n",
       "       [<Axes: title={'center': 'water_access'}>,\n",
       "        <Axes: title={'center': 'air_pollution'}>,\n",
       "        <Axes: title={'center': 'population_density'}>,\n",
       "        <Axes: title={'center': 'population'}>],\n",
       "       [<Axes: title={'center': 'alcohol_consumption'}>,\n",
       "        <Axes: title={'center': 'unemployment_rate'}>,\n",
       "        <Axes: title={'center': 'social_support'}>,\n",
       "        <Axes: title={'center': 'freedom'}>],\n",
       "       [<Axes: title={'center': 'generosity'}>,\n",
       "        <Axes: title={'center': 'cpi'}>, <Axes: >, <Axes: >]],\n",
       "      dtype=object)"
      ]
     },
     "execution_count": 26,
     "metadata": {},
     "output_type": "execute_result"
    },
    {
     "data": {
      "image/png": "[encoded data removed]",
      "text/plain": [
       "<Figure size 3000x3000 with 20 Axes>"
      ]
     },
     "metadata": {},
     "output_type": "display_data"
    }
   ],
   "source": [
    "df.hist(figsize = (30,30))"
   ]
  },
  {
   "cell_type": "code",
   "execution_count": 27,
   "metadata": {
    "colab": {
     "base_uri": "https://localhost:8080/",
     "height": 658
    },
    "id": "711wo5AwcISa",
    "outputId": "d1dee078-c0be-45dd-af33-5ce257e07356"
   },
   "outputs": [
    {
     "name": "stderr",
     "output_type": "stream",
     "text": [
      "C:\\Users\\Ashish Kumar Singh\\AppData\\Local\\Temp\\ipykernel_21728\\111282999.py:1: UserWarning: \n",
      "\n",
      "`distplot` is a deprecated function and will be removed in seaborn v0.14.0.\n",
      "\n",
      "Please adapt your code to use either `displot` (a figure-level function with\n",
      "similar flexibility) or `histplot` (an axes-level function for histograms).\n",
      "\n",
      "For a guide to updating your code to use the new functions, please see\n",
      "https://gist.github.com/mwaskom/de44147ed2974457ad6372750bbe5751\n",
      "\n",
      "  sns.distplot(df['electricity_access'])\n",
      "C:\\Users\\Ashish Kumar Singh\\anaconda3\\Lib\\site-packages\\seaborn\\_oldcore.py:1119: FutureWarning: use_inf_as_na option is deprecated and will be removed in a future version. Convert inf values to NaN before operating instead.\n",
      "  with pd.option_context('mode.use_inf_as_na', True):\n"
     ]
    },
    {
     "data": {
      "text/plain": [
       "<Axes: xlabel='electricity_access', ylabel='Density'>"
      ]
     },
     "execution_count": 27,
     "metadata": {},
     "output_type": "execute_result"
    },
    {
     "data": {
      "image/png": "[encoded data removed]",
      "text/plain": [
       "<Figure size 640x480 with 1 Axes>"
      ]
     },
     "metadata": {},
     "output_type": "display_data"
    }
   ],
   "source": [
    "sns.distplot(df['electricity_access'])"
   ]
  },
  {
   "cell_type": "code",
   "execution_count": 28,
   "metadata": {
    "colab": {
     "base_uri": "https://localhost:8080/",
     "height": 673
    },
    "id": "GBEkCVJdcd9l",
    "outputId": "f4970ec8-f9ec-49fb-e540-8ffea34e702c"
   },
   "outputs": [
    {
     "name": "stderr",
     "output_type": "stream",
     "text": [
      "C:\\Users\\Ashish Kumar Singh\\AppData\\Local\\Temp\\ipykernel_21728\\3171725717.py:1: UserWarning: \n",
      "\n",
      "`distplot` is a deprecated function and will be removed in seaborn v0.14.0.\n",
      "\n",
      "Please adapt your code to use either `displot` (a figure-level function with\n",
      "similar flexibility) or `histplot` (an axes-level function for histograms).\n",
      "\n",
      "For a guide to updating your code to use the new functions, please see\n",
      "https://gist.github.com/mwaskom/de44147ed2974457ad6372750bbe5751\n",
      "\n",
      "  sns.distplot(df['gdp'])\n",
      "C:\\Users\\Ashish Kumar Singh\\anaconda3\\Lib\\site-packages\\seaborn\\_oldcore.py:1119: FutureWarning: use_inf_as_na option is deprecated and will be removed in a future version. Convert inf values to NaN before operating instead.\n",
      "  with pd.option_context('mode.use_inf_as_na', True):\n"
     ]
    },
    {
     "data": {
      "text/plain": [
       "<Axes: xlabel='gdp', ylabel='Density'>"
      ]
     },
     "execution_count": 28,
     "metadata": {},
     "output_type": "execute_result"
    },
    {
     "data": {
      "image/png": "[encoded data removed]",
      "text/plain": [
       "<Figure size 640x480 with 1 Axes>"
      ]
     },
     "metadata": {},
     "output_type": "display_data"
    }
   ],
   "source": [
    "sns.distplot(df['gdp'])"
   ]
  },
  {
   "cell_type": "code",
   "execution_count": 29,
   "metadata": {
    "colab": {
     "base_uri": "https://localhost:8080/",
     "height": 657
    },
    "id": "HjryhoxAceyZ",
    "outputId": "3a6d2fba-916e-4b7b-8194-cafb87d4a38d"
   },
   "outputs": [
    {
     "name": "stderr",
     "output_type": "stream",
     "text": [
      "C:\\Users\\Ashish Kumar Singh\\AppData\\Local\\Temp\\ipykernel_21728\\2466028872.py:1: UserWarning: \n",
      "\n",
      "`distplot` is a deprecated function and will be removed in seaborn v0.14.0.\n",
      "\n",
      "Please adapt your code to use either `displot` (a figure-level function with\n",
      "similar flexibility) or `histplot` (an axes-level function for histograms).\n",
      "\n",
      "For a guide to updating your code to use the new functions, please see\n",
      "https://gist.github.com/mwaskom/de44147ed2974457ad6372750bbe5751\n",
      "\n",
      "  sns.distplot(df['freedom'])\n",
      "C:\\Users\\Ashish Kumar Singh\\anaconda3\\Lib\\site-packages\\seaborn\\_oldcore.py:1119: FutureWarning: use_inf_as_na option is deprecated and will be removed in a future version. Convert inf values to NaN before operating instead.\n",
      "  with pd.option_context('mode.use_inf_as_na', True):\n"
     ]
    },
    {
     "data": {
      "text/plain": [
       "<Axes: xlabel='freedom', ylabel='Density'>"
      ]
     },
     "execution_count": 29,
     "metadata": {},
     "output_type": "execute_result"
    },
    {
     "data": {
      "image/png": "[encoded data removed]",
      "text/plain": [
       "<Figure size 640x480 with 1 Axes>"
      ]
     },
     "metadata": {},
     "output_type": "display_data"
    }
   ],
   "source": [
    "sns.distplot(df['freedom'])"
   ]
  },
  {
   "cell_type": "code",
   "execution_count": 30,
   "metadata": {
    "colab": {
     "base_uri": "https://localhost:8080/",
     "height": 673
    },
    "id": "9iOjpaRqcnSg",
    "outputId": "ccc44cea-9f74-4da7-d73a-e83736f5ad04"
   },
   "outputs": [
    {
     "name": "stderr",
     "output_type": "stream",
     "text": [
      "C:\\Users\\Ashish Kumar Singh\\AppData\\Local\\Temp\\ipykernel_21728\\1114946792.py:1: UserWarning: \n",
      "\n",
      "`distplot` is a deprecated function and will be removed in seaborn v0.14.0.\n",
      "\n",
      "Please adapt your code to use either `displot` (a figure-level function with\n",
      "similar flexibility) or `histplot` (an axes-level function for histograms).\n",
      "\n",
      "For a guide to updating your code to use the new functions, please see\n",
      "https://gist.github.com/mwaskom/de44147ed2974457ad6372750bbe5751\n",
      "\n",
      "  sns.distplot(df['population'])\n",
      "C:\\Users\\Ashish Kumar Singh\\anaconda3\\Lib\\site-packages\\seaborn\\_oldcore.py:1119: FutureWarning: use_inf_as_na option is deprecated and will be removed in a future version. Convert inf values to NaN before operating instead.\n",
      "  with pd.option_context('mode.use_inf_as_na', True):\n"
     ]
    },
    {
     "data": {
      "text/plain": [
       "<Axes: xlabel='population', ylabel='Density'>"
      ]
     },
     "execution_count": 30,
     "metadata": {},
     "output_type": "execute_result"
    },
    {
     "data": {
      "image/png": "[encoded data removed]",
      "text/plain": [
       "<Figure size 640x480 with 1 Axes>"
      ]
     },
     "metadata": {},
     "output_type": "display_data"
    }
   ],
   "source": [
    "sns.distplot(df['population'])"
   ]
  },
  {
   "cell_type": "code",
   "execution_count": 31,
   "metadata": {
    "colab": {
     "base_uri": "https://localhost:8080/",
     "height": 673
    },
    "id": "mIMx0daac0bv",
    "outputId": "74be84c9-187f-467e-9f17-c2ccfd007570"
   },
   "outputs": [
    {
     "name": "stderr",
     "output_type": "stream",
     "text": [
      "C:\\Users\\Ashish Kumar Singh\\AppData\\Local\\Temp\\ipykernel_21728\\2072128576.py:1: UserWarning: \n",
      "\n",
      "`distplot` is a deprecated function and will be removed in seaborn v0.14.0.\n",
      "\n",
      "Please adapt your code to use either `displot` (a figure-level function with\n",
      "similar flexibility) or `histplot` (an axes-level function for histograms).\n",
      "\n",
      "For a guide to updating your code to use the new functions, please see\n",
      "https://gist.github.com/mwaskom/de44147ed2974457ad6372750bbe5751\n",
      "\n",
      "  sns.distplot(df['land_area'])\n",
      "C:\\Users\\Ashish Kumar Singh\\anaconda3\\Lib\\site-packages\\seaborn\\_oldcore.py:1119: FutureWarning: use_inf_as_na option is deprecated and will be removed in a future version. Convert inf values to NaN before operating instead.\n",
      "  with pd.option_context('mode.use_inf_as_na', True):\n"
     ]
    },
    {
     "data": {
      "text/plain": [
       "<Axes: xlabel='land_area', ylabel='Density'>"
      ]
     },
     "execution_count": 31,
     "metadata": {},
     "output_type": "execute_result"
    },
    {
     "data": {
      "image/png": "[encoded data removed]",
      "text/plain": [
       "<Figure size 640x480 with 1 Axes>"
      ]
     },
     "metadata": {},
     "output_type": "display_data"
    }
   ],
   "source": [
    "sns.distplot(df['land_area'])"
   ]
  },
  {
   "cell_type": "code",
   "execution_count": 32,
   "metadata": {
    "colab": {
     "base_uri": "https://localhost:8080/",
     "height": 657
    },
    "id": "elhH_XO3c6BN",
    "outputId": "a4a70280-e24f-4cd1-d734-f7aca78b35a3"
   },
   "outputs": [
    {
     "name": "stderr",
     "output_type": "stream",
     "text": [
      "C:\\Users\\Ashish Kumar Singh\\AppData\\Local\\Temp\\ipykernel_21728\\3179644205.py:1: UserWarning: \n",
      "\n",
      "`distplot` is a deprecated function and will be removed in seaborn v0.14.0.\n",
      "\n",
      "Please adapt your code to use either `displot` (a figure-level function with\n",
      "similar flexibility) or `histplot` (an axes-level function for histograms).\n",
      "\n",
      "For a guide to updating your code to use the new functions, please see\n",
      "https://gist.github.com/mwaskom/de44147ed2974457ad6372750bbe5751\n",
      "\n",
      "  sns.distplot(df['cpi'])\n",
      "C:\\Users\\Ashish Kumar Singh\\anaconda3\\Lib\\site-packages\\seaborn\\_oldcore.py:1119: FutureWarning: use_inf_as_na option is deprecated and will be removed in a future version. Convert inf values to NaN before operating instead.\n",
      "  with pd.option_context('mode.use_inf_as_na', True):\n"
     ]
    },
    {
     "data": {
      "text/plain": [
       "<Axes: xlabel='cpi', ylabel='Density'>"
      ]
     },
     "execution_count": 32,
     "metadata": {},
     "output_type": "execute_result"
    },
    {
     "data": {
      "image/png": "[encoded data removed]",
      "text/plain": [
       "<Figure size 640x480 with 1 Axes>"
      ]
     },
     "metadata": {},
     "output_type": "display_data"
    }
   ],
   "source": [
    "sns.distplot(df['cpi'])"
   ]
  },
  {
   "cell_type": "code",
   "execution_count": 33,
   "metadata": {
    "colab": {
     "base_uri": "https://localhost:8080/"
    },
    "id": "qnPSIEMidDUB",
    "outputId": "b1b058df-fd1b-4a8c-aea2-c9bdc0b87bc5"
   },
   "outputs": [
    {
     "data": {
      "text/plain": [
       "country                 0\n",
       "electricity_access      1\n",
       "gdp                     3\n",
       "gdp_capita              3\n",
       "labor_rate              4\n",
       "labor_force             4\n",
       "land_area               1\n",
       "life_expectancy         0\n",
       "adult_literacy         73\n",
       "water_access            2\n",
       "air_pollution           3\n",
       "population_density      1\n",
       "population              0\n",
       "alcohol_consumption     6\n",
       "unemployment_rate       4\n",
       "social_support         33\n",
       "freedom                33\n",
       "generosity             34\n",
       "income_class            0\n",
       "cpi                     7\n",
       "dtype: int64"
      ]
     },
     "execution_count": 33,
     "metadata": {},
     "output_type": "execute_result"
    }
   ],
   "source": [
    "df.isnull().sum()"
   ]
  },
  {
   "cell_type": "code",
   "execution_count": 34,
   "metadata": {
    "colab": {
     "base_uri": "https://localhost:8080/"
    },
    "id": "TrZgtIfBdI1c",
    "outputId": "6d0f8413-2ccd-4974-9c19-c04c324be44a"
   },
   "outputs": [
    {
     "name": "stdout",
     "output_type": "stream",
     "text": [
      "country                 0.000000\n",
      "electricity_access      0.537634\n",
      "gdp                     1.612903\n",
      "gdp_capita              1.612903\n",
      "labor_rate              2.150538\n",
      "labor_force             2.150538\n",
      "land_area               0.537634\n",
      "life_expectancy         0.000000\n",
      "adult_literacy         39.247312\n",
      "water_access            1.075269\n",
      "air_pollution           1.612903\n",
      "population_density      0.537634\n",
      "population              0.000000\n",
      "alcohol_consumption     3.225806\n",
      "unemployment_rate       2.150538\n",
      "social_support         17.741935\n",
      "freedom                17.741935\n",
      "generosity             18.279570\n",
      "income_class            0.000000\n",
      "cpi                     3.763441\n",
      "dtype: float64\n"
     ]
    }
   ],
   "source": [
    "percent_missing = df.isnull().sum() * 100 / len(df)\n",
    "print(percent_missing)\n"
   ]
  },
  {
   "cell_type": "code",
   "execution_count": 35,
   "metadata": {
    "colab": {
     "base_uri": "https://localhost:8080/"
    },
    "id": "_xU9j0XNdPq0",
    "outputId": "e8e6737e-81fa-4170-8397-5d98f6d3259f"
   },
   "outputs": [
    {
     "name": "stdout",
     "output_type": "stream",
     "text": [
      "82.27210810810811\telectricity_access\n",
      "431185268738.83606\tgdp\n",
      "13633.945409836064\tgdp_capita\n",
      "60.70785714285713\tlabor_rate\n",
      "18327936.72362637\tlabor_force\n",
      "699814.6164324324\tland_area\n",
      "82.01787610619469\tadult_literacy\n",
      "86.88038043478261\twater_access\n",
      "89.97338797814209\tair_pollution\n",
      "230.88967567567565\tpopulation_density\n",
      "5.525123888888889\talcohol_consumption\n",
      "7.614219780219781\tunemployment_rate\n",
      "0.7987581699346404\tsocial_support\n",
      "0.7684967320261438\tfreedom\n",
      "-0.0013092105263157899\tgenerosity\n",
      "42.9227374301676\tcpi\n"
     ]
    }
   ],
   "source": [
    "#replace by mean\n",
    "for columns in df.columns:\n",
    "  if df[columns].isnull().sum()>0 and df[columns].dtype !='O':\n",
    "    print(str(df[columns].mean()) + '\\t' +columns)\n",
    "    df[columns].fillna(df[columns].mean(),inplace=True)"
   ]
  },
  {
   "cell_type": "code",
   "execution_count": 36,
   "metadata": {
    "colab": {
     "base_uri": "https://localhost:8080/"
    },
    "id": "mGRV3xuXdQjE",
    "outputId": "ade6c5a8-9d18-4bfc-ad85-c618d46b2002"
   },
   "outputs": [
    {
     "data": {
      "text/plain": [
       "country                0\n",
       "electricity_access     0\n",
       "gdp                    0\n",
       "gdp_capita             0\n",
       "labor_rate             0\n",
       "labor_force            0\n",
       "land_area              0\n",
       "life_expectancy        0\n",
       "adult_literacy         0\n",
       "water_access           0\n",
       "air_pollution          0\n",
       "population_density     0\n",
       "population             0\n",
       "alcohol_consumption    0\n",
       "unemployment_rate      0\n",
       "social_support         0\n",
       "freedom                0\n",
       "generosity             0\n",
       "income_class           0\n",
       "cpi                    0\n",
       "dtype: int64"
      ]
     },
     "execution_count": 36,
     "metadata": {},
     "output_type": "execute_result"
    }
   ],
   "source": [
    "df.isnull().sum()"
   ]
  },
  {
   "cell_type": "code",
   "execution_count": 37,
   "metadata": {
    "colab": {
     "base_uri": "https://localhost:8080/"
    },
    "id": "uVz48Lgzdj_g",
    "outputId": "ebe179f7-48d9-4d74-a0df-4fd9a52c36f7"
   },
   "outputs": [
    {
     "name": "stdout",
     "output_type": "stream",
     "text": [
      "country = ['Afghanistan' 'Albania' 'Algeria' 'Angola' 'Argentina' 'Armenia'\n",
      " 'Australia' 'Austria' 'Azerbaijan' 'Bahamas, The' 'Bahrain' 'Bangladesh'\n",
      " 'Barbados' 'Belarus' 'Belgium' 'Belize' 'Benin' 'Bhutan' 'Bolivia'\n",
      " 'Bosnia and Herzegovina' 'Botswana' 'Brazil' 'Brunei Darussalam'\n",
      " 'Bulgaria' 'Burkina Faso' 'Burundi' 'Cabo Verde' 'Cambodia' 'Cameroon'\n",
      " 'Canada' 'Central African Republic' 'Chad' 'Chile' 'China' 'Colombia'\n",
      " 'Comoros' 'Congo, Dem. Rep.' 'Congo, Rep.' 'Costa Rica' \"Cote d'Ivoire\"\n",
      " 'Croatia' 'Cuba' 'Cyprus' 'Czechia' 'Denmark' 'Djibouti' 'Dominica'\n",
      " 'Dominican Republic' 'Ecuador' 'Egypt' 'El Salvador' 'Equatorial Guinea'\n",
      " 'Eritrea' 'Estonia' 'Eswatini' 'Ethiopia' 'Fiji' 'Finland' 'France'\n",
      " 'French Polynesia' 'Gabon' 'Gambia' 'Georgia' 'Germany' 'Ghana' 'Greece'\n",
      " 'Grenada' 'Guam' 'Guatemala' 'Guinea' 'Guinea-Bissau' 'Guyana' 'Haiti'\n",
      " 'Honduras' 'Hong Kong' 'Hungary' 'Iceland' 'India' 'Indonesia' 'Iran'\n",
      " 'Iraq' 'Ireland' 'Israel' 'Italy' 'Jamaica' 'Japan' 'Jordan' 'Kazakhstan'\n",
      " 'Kenya' \"Korea, Dem. People's Rep.\" 'Korea, Rep.' 'Kosovo' 'Kuwait'\n",
      " 'Kyrgyzstan' 'Lao PDR' 'Latvia' 'Lebanon' 'Lesotho' 'Liberia' 'Libya'\n",
      " 'Lithuania' 'Luxembourg' 'Madagascar' 'Malawi' 'Malaysia' 'Maldives'\n",
      " 'Mali' 'Malta' 'Mauritania' 'Mauritius' 'Mexico' 'Moldova' 'Mongolia'\n",
      " 'Montenegro' 'Morocco' 'Mozambique' 'Myanmar' 'Namibia' 'Nepal'\n",
      " 'Netherlands' 'New Zealand' 'Nicaragua' 'Niger' 'Nigeria'\n",
      " 'North Macedonia' 'Norway' 'Oman' 'Pakistan' 'Panama' 'Papua New Guinea'\n",
      " 'Paraguay' 'Peru' 'Philippines' 'Poland' 'Portugal' 'Puerto Rico' 'Qatar'\n",
      " 'Romania' 'Russia' 'Rwanda' 'Samoa' 'São Tomé and Príncipe'\n",
      " 'Saudi Arabia' 'Senegal' 'Serbia' 'Seychelles' 'Sierra Leone' 'Singapore'\n",
      " 'Slovak Republic' 'Slovenia' 'Solomon Islands' 'Somalia' 'South Africa'\n",
      " 'South Sudan' 'Spain' 'Sri Lanka' 'St. Lucia'\n",
      " 'St. Vincent and the Grenadines' 'Sudan' 'Suriname' 'Sweden'\n",
      " 'Switzerland' 'Syria' 'Tajikistan' 'Tanzania' 'Thailand' 'Timor-Leste'\n",
      " 'Togo' 'Tonga' 'Trinidad and Tobago' 'Tunisia' 'Turkey' 'Turkmenistan'\n",
      " 'Uganda' 'Ukraine' 'United Arab Emirates' 'United Kingdom'\n",
      " 'United States' 'Uruguay' 'Uzbekistan' 'Vanuatu' 'Venezuela' 'Vietnam'\n",
      " 'Yemen' 'Zambia' 'Zimbabwe']\n",
      "income_class = ['Low income' 'Upper middle income' 'Lower middle income' 'High income']\n"
     ]
    }
   ],
   "source": [
    "#unique values of categorical feature\n",
    "for columns in df.columns:\n",
    "  if df[columns].dtype==\"O\":\n",
    "    print(columns,\"=\",df[columns].unique())"
   ]
  },
  {
   "cell_type": "code",
   "execution_count": 38,
   "metadata": {
    "colab": {
     "base_uri": "https://localhost:8080/"
    },
    "id": "RJf7nsEldp_G",
    "outputId": "562f23cc-7403-4609-f66e-b0f4932fb803"
   },
   "outputs": [
    {
     "data": {
      "text/plain": [
       "country\n",
       "Afghanistan    1\n",
       "Pakistan       1\n",
       "Nepal          1\n",
       "Netherlands    1\n",
       "New Zealand    1\n",
       "              ..\n",
       "Ghana          1\n",
       "Greece         1\n",
       "Grenada        1\n",
       "Guam           1\n",
       "Zimbabwe       1\n",
       "Name: count, Length: 186, dtype: int64"
      ]
     },
     "execution_count": 38,
     "metadata": {},
     "output_type": "execute_result"
    }
   ],
   "source": [
    "df['country'].value_counts()"
   ]
  },
  {
   "cell_type": "code",
   "execution_count": 39,
   "metadata": {
    "colab": {
     "base_uri": "https://localhost:8080/",
     "height": 447
    },
    "id": "IiZoS2yydwCz",
    "outputId": "e1278991-401b-4cae-9075-3f99c0cb683d"
   },
   "outputs": [
    {
     "data": {
      "text/plain": [
       "<Axes: >"
      ]
     },
     "execution_count": 39,
     "metadata": {},
     "output_type": "execute_result"
    },
    {
     "data": {
      "image/png": "[encoded data removed]",
      "text/plain": [
       "<Figure size 640x480 with 1 Axes>"
      ]
     },
     "metadata": {},
     "output_type": "display_data"
    }
   ],
   "source": [
    "df['country'].hist()"
   ]
  },
  {
   "cell_type": "code",
   "execution_count": 40,
   "metadata": {
    "colab": {
     "base_uri": "https://localhost:8080/"
    },
    "id": "atkECJTYd0o3",
    "outputId": "4a354331-ece0-49ac-a975-6cc112516408"
   },
   "outputs": [
    {
     "data": {
      "text/plain": [
       "income_class\n",
       "High income            57\n",
       "Lower middle income    53\n",
       "Upper middle income    50\n",
       "Low income             26\n",
       "Name: count, dtype: int64"
      ]
     },
     "execution_count": 40,
     "metadata": {},
     "output_type": "execute_result"
    }
   ],
   "source": [
    "df['income_class'].value_counts()"
   ]
  },
  {
   "cell_type": "code",
   "execution_count": 41,
   "metadata": {
    "colab": {
     "base_uri": "https://localhost:8080/",
     "height": 447
    },
    "id": "HNfGvsCrd50Y",
    "outputId": "5da1b5f1-9a92-489a-b487-da7f3b69229a"
   },
   "outputs": [
    {
     "data": {
      "text/plain": [
       "<Axes: >"
      ]
     },
     "execution_count": 41,
     "metadata": {},
     "output_type": "execute_result"
    },
    {
     "data": {
      "image/png": "[encoded data removed]",
      "text/plain": [
       "<Figure size 640x480 with 1 Axes>"
      ]
     },
     "metadata": {},
     "output_type": "display_data"
    }
   ],
   "source": [
    "df['income_class'].hist()"
   ]
  },
  {
   "cell_type": "code",
   "execution_count": 42,
   "metadata": {
    "colab": {
     "base_uri": "https://localhost:8080/",
     "height": 461
    },
    "id": "GtGU_HmKd6eD",
    "outputId": "5b67d0a5-dad7-4d6a-8149-3762d1ed427b"
   },
   "outputs": [
    {
     "data": {
      "text/html": [
       "<div>\n",
       "<style scoped>\n",
       "    .dataframe tbody tr th:only-of-type {\n",
       "        vertical-align: middle;\n",
       "    }\n",
       "\n",
       "    .dataframe tbody tr th {\n",
       "        vertical-align: top;\n",
       "    }\n",
       "\n",
       "    .dataframe thead th {\n",
       "        text-align: right;\n",
       "    }\n",
       "</style>\n",
       "<table border=\"1\" class=\"dataframe\">\n",
       "  <thead>\n",
       "    <tr style=\"text-align: right;\">\n",
       "      <th></th>\n",
       "      <th>electricity_access</th>\n",
       "      <th>gdp</th>\n",
       "      <th>gdp_capita</th>\n",
       "      <th>labor_rate</th>\n",
       "      <th>labor_force</th>\n",
       "      <th>land_area</th>\n",
       "      <th>life_expectancy</th>\n",
       "      <th>adult_literacy</th>\n",
       "      <th>water_access</th>\n",
       "      <th>air_pollution</th>\n",
       "      <th>...</th>\n",
       "      <th>country_Vanuatu</th>\n",
       "      <th>country_Venezuela</th>\n",
       "      <th>country_Vietnam</th>\n",
       "      <th>country_Yemen</th>\n",
       "      <th>country_Zambia</th>\n",
       "      <th>country_Zimbabwe</th>\n",
       "      <th>income_class_High income</th>\n",
       "      <th>income_class_Low income</th>\n",
       "      <th>income_class_Lower middle income</th>\n",
       "      <th>income_class_Upper middle income</th>\n",
       "    </tr>\n",
       "  </thead>\n",
       "  <tbody>\n",
       "    <tr>\n",
       "      <th>0</th>\n",
       "      <td>90.08</td>\n",
       "      <td>1.883323e+10</td>\n",
       "      <td>536.23000</td>\n",
       "      <td>47.28</td>\n",
       "      <td>9103245.75</td>\n",
       "      <td>652230.0</td>\n",
       "      <td>62.97</td>\n",
       "      <td>82.017876</td>\n",
       "      <td>66.61</td>\n",
       "      <td>100.00</td>\n",
       "      <td>...</td>\n",
       "      <td>False</td>\n",
       "      <td>False</td>\n",
       "      <td>False</td>\n",
       "      <td>False</td>\n",
       "      <td>False</td>\n",
       "      <td>False</td>\n",
       "      <td>False</td>\n",
       "      <td>True</td>\n",
       "      <td>False</td>\n",
       "      <td>False</td>\n",
       "    </tr>\n",
       "    <tr>\n",
       "      <th>1</th>\n",
       "      <td>99.94</td>\n",
       "      <td>1.285605e+10</td>\n",
       "      <td>4473.89000</td>\n",
       "      <td>57.54</td>\n",
       "      <td>1362512.25</td>\n",
       "      <td>27400.0</td>\n",
       "      <td>78.93</td>\n",
       "      <td>98.140000</td>\n",
       "      <td>93.92</td>\n",
       "      <td>100.00</td>\n",
       "      <td>...</td>\n",
       "      <td>False</td>\n",
       "      <td>False</td>\n",
       "      <td>False</td>\n",
       "      <td>False</td>\n",
       "      <td>False</td>\n",
       "      <td>False</td>\n",
       "      <td>False</td>\n",
       "      <td>False</td>\n",
       "      <td>False</td>\n",
       "      <td>True</td>\n",
       "    </tr>\n",
       "    <tr>\n",
       "      <th>2</th>\n",
       "      <td>99.49</td>\n",
       "      <td>1.677553e+11</td>\n",
       "      <td>4117.84000</td>\n",
       "      <td>41.79</td>\n",
       "      <td>11979207.50</td>\n",
       "      <td>2381741.0</td>\n",
       "      <td>75.79</td>\n",
       "      <td>81.410000</td>\n",
       "      <td>93.73</td>\n",
       "      <td>100.00</td>\n",
       "      <td>...</td>\n",
       "      <td>False</td>\n",
       "      <td>False</td>\n",
       "      <td>False</td>\n",
       "      <td>False</td>\n",
       "      <td>False</td>\n",
       "      <td>False</td>\n",
       "      <td>False</td>\n",
       "      <td>False</td>\n",
       "      <td>True</td>\n",
       "      <td>False</td>\n",
       "    </tr>\n",
       "    <tr>\n",
       "      <th>3</th>\n",
       "      <td>43.00</td>\n",
       "      <td>7.095638e+10</td>\n",
       "      <td>2395.27000</td>\n",
       "      <td>77.28</td>\n",
       "      <td>12467594.50</td>\n",
       "      <td>1246700.0</td>\n",
       "      <td>61.39</td>\n",
       "      <td>82.017876</td>\n",
       "      <td>55.46</td>\n",
       "      <td>100.00</td>\n",
       "      <td>...</td>\n",
       "      <td>False</td>\n",
       "      <td>False</td>\n",
       "      <td>False</td>\n",
       "      <td>False</td>\n",
       "      <td>False</td>\n",
       "      <td>False</td>\n",
       "      <td>False</td>\n",
       "      <td>False</td>\n",
       "      <td>True</td>\n",
       "      <td>False</td>\n",
       "    </tr>\n",
       "    <tr>\n",
       "      <th>4</th>\n",
       "      <td>99.90</td>\n",
       "      <td>5.801825e+11</td>\n",
       "      <td>13246.88000</td>\n",
       "      <td>59.17</td>\n",
       "      <td>19579367.75</td>\n",
       "      <td>2736690.0</td>\n",
       "      <td>76.73</td>\n",
       "      <td>99.100000</td>\n",
       "      <td>99.01</td>\n",
       "      <td>95.34</td>\n",
       "      <td>...</td>\n",
       "      <td>False</td>\n",
       "      <td>False</td>\n",
       "      <td>False</td>\n",
       "      <td>False</td>\n",
       "      <td>False</td>\n",
       "      <td>False</td>\n",
       "      <td>False</td>\n",
       "      <td>False</td>\n",
       "      <td>False</td>\n",
       "      <td>True</td>\n",
       "    </tr>\n",
       "    <tr>\n",
       "      <th>...</th>\n",
       "      <td>...</td>\n",
       "      <td>...</td>\n",
       "      <td>...</td>\n",
       "      <td>...</td>\n",
       "      <td>...</td>\n",
       "      <td>...</td>\n",
       "      <td>...</td>\n",
       "      <td>...</td>\n",
       "      <td>...</td>\n",
       "      <td>...</td>\n",
       "      <td>...</td>\n",
       "      <td>...</td>\n",
       "      <td>...</td>\n",
       "      <td>...</td>\n",
       "      <td>...</td>\n",
       "      <td>...</td>\n",
       "      <td>...</td>\n",
       "      <td>...</td>\n",
       "      <td>...</td>\n",
       "      <td>...</td>\n",
       "      <td>...</td>\n",
       "    </tr>\n",
       "    <tr>\n",
       "      <th>181</th>\n",
       "      <td>99.62</td>\n",
       "      <td>4.311853e+11</td>\n",
       "      <td>13633.94541</td>\n",
       "      <td>60.58</td>\n",
       "      <td>13210887.75</td>\n",
       "      <td>882050.0</td>\n",
       "      <td>72.25</td>\n",
       "      <td>96.870000</td>\n",
       "      <td>94.31</td>\n",
       "      <td>99.95</td>\n",
       "      <td>...</td>\n",
       "      <td>False</td>\n",
       "      <td>True</td>\n",
       "      <td>False</td>\n",
       "      <td>False</td>\n",
       "      <td>False</td>\n",
       "      <td>False</td>\n",
       "      <td>False</td>\n",
       "      <td>False</td>\n",
       "      <td>True</td>\n",
       "      <td>False</td>\n",
       "    </tr>\n",
       "    <tr>\n",
       "      <th>182</th>\n",
       "      <td>99.61</td>\n",
       "      <td>2.719536e+11</td>\n",
       "      <td>2903.81000</td>\n",
       "      <td>76.38</td>\n",
       "      <td>54856780.25</td>\n",
       "      <td>313400.5</td>\n",
       "      <td>73.94</td>\n",
       "      <td>82.017876</td>\n",
       "      <td>93.84</td>\n",
       "      <td>100.00</td>\n",
       "      <td>...</td>\n",
       "      <td>False</td>\n",
       "      <td>False</td>\n",
       "      <td>True</td>\n",
       "      <td>False</td>\n",
       "      <td>False</td>\n",
       "      <td>False</td>\n",
       "      <td>False</td>\n",
       "      <td>False</td>\n",
       "      <td>True</td>\n",
       "      <td>False</td>\n",
       "    </tr>\n",
       "    <tr>\n",
       "      <th>183</th>\n",
       "      <td>69.37</td>\n",
       "      <td>3.055268e+10</td>\n",
       "      <td>1038.42000</td>\n",
       "      <td>37.45</td>\n",
       "      <td>6526029.50</td>\n",
       "      <td>527970.0</td>\n",
       "      <td>65.62</td>\n",
       "      <td>82.017876</td>\n",
       "      <td>57.27</td>\n",
       "      <td>100.00</td>\n",
       "      <td>...</td>\n",
       "      <td>False</td>\n",
       "      <td>False</td>\n",
       "      <td>False</td>\n",
       "      <td>True</td>\n",
       "      <td>False</td>\n",
       "      <td>False</td>\n",
       "      <td>False</td>\n",
       "      <td>True</td>\n",
       "      <td>False</td>\n",
       "      <td>False</td>\n",
       "    </tr>\n",
       "    <tr>\n",
       "      <th>184</th>\n",
       "      <td>36.75</td>\n",
       "      <td>2.359868e+10</td>\n",
       "      <td>1382.20000</td>\n",
       "      <td>58.70</td>\n",
       "      <td>5499897.00</td>\n",
       "      <td>743390.0</td>\n",
       "      <td>61.87</td>\n",
       "      <td>86.750000</td>\n",
       "      <td>64.39</td>\n",
       "      <td>100.00</td>\n",
       "      <td>...</td>\n",
       "      <td>False</td>\n",
       "      <td>False</td>\n",
       "      <td>False</td>\n",
       "      <td>False</td>\n",
       "      <td>True</td>\n",
       "      <td>False</td>\n",
       "      <td>False</td>\n",
       "      <td>False</td>\n",
       "      <td>True</td>\n",
       "      <td>False</td>\n",
       "    </tr>\n",
       "    <tr>\n",
       "      <th>185</th>\n",
       "      <td>41.39</td>\n",
       "      <td>2.306319e+10</td>\n",
       "      <td>1573.35000</td>\n",
       "      <td>65.91</td>\n",
       "      <td>5551153.50</td>\n",
       "      <td>386850.0</td>\n",
       "      <td>60.51</td>\n",
       "      <td>82.017876</td>\n",
       "      <td>64.24</td>\n",
       "      <td>100.00</td>\n",
       "      <td>...</td>\n",
       "      <td>False</td>\n",
       "      <td>False</td>\n",
       "      <td>False</td>\n",
       "      <td>False</td>\n",
       "      <td>False</td>\n",
       "      <td>True</td>\n",
       "      <td>False</td>\n",
       "      <td>False</td>\n",
       "      <td>True</td>\n",
       "      <td>False</td>\n",
       "    </tr>\n",
       "  </tbody>\n",
       "</table>\n",
       "<p>186 rows × 208 columns</p>\n",
       "</div>"
      ],
      "text/plain": [
       "     electricity_access           gdp   gdp_capita  labor_rate  labor_force  \\\n",
       "0                 90.08  1.883323e+10    536.23000       47.28   9103245.75   \n",
       "1                 99.94  1.285605e+10   4473.89000       57.54   1362512.25   \n",
       "2                 99.49  1.677553e+11   4117.84000       41.79  11979207.50   \n",
       "3                 43.00  7.095638e+10   2395.27000       77.28  12467594.50   \n",
       "4                 99.90  5.801825e+11  13246.88000       59.17  19579367.75   \n",
       "..                  ...           ...          ...         ...          ...   \n",
       "181               99.62  4.311853e+11  13633.94541       60.58  13210887.75   \n",
       "182               99.61  2.719536e+11   2903.81000       76.38  54856780.25   \n",
       "183               69.37  3.055268e+10   1038.42000       37.45   6526029.50   \n",
       "184               36.75  2.359868e+10   1382.20000       58.70   5499897.00   \n",
       "185               41.39  2.306319e+10   1573.35000       65.91   5551153.50   \n",
       "\n",
       "     land_area  life_expectancy  adult_literacy  water_access  air_pollution  \\\n",
       "0     652230.0            62.97       82.017876         66.61         100.00   \n",
       "1      27400.0            78.93       98.140000         93.92         100.00   \n",
       "2    2381741.0            75.79       81.410000         93.73         100.00   \n",
       "3    1246700.0            61.39       82.017876         55.46         100.00   \n",
       "4    2736690.0            76.73       99.100000         99.01          95.34   \n",
       "..         ...              ...             ...           ...            ...   \n",
       "181   882050.0            72.25       96.870000         94.31          99.95   \n",
       "182   313400.5            73.94       82.017876         93.84         100.00   \n",
       "183   527970.0            65.62       82.017876         57.27         100.00   \n",
       "184   743390.0            61.87       86.750000         64.39         100.00   \n",
       "185   386850.0            60.51       82.017876         64.24         100.00   \n",
       "\n",
       "     ...  country_Vanuatu  country_Venezuela  country_Vietnam  country_Yemen  \\\n",
       "0    ...            False              False            False          False   \n",
       "1    ...            False              False            False          False   \n",
       "2    ...            False              False            False          False   \n",
       "3    ...            False              False            False          False   \n",
       "4    ...            False              False            False          False   \n",
       "..   ...              ...                ...              ...            ...   \n",
       "181  ...            False               True            False          False   \n",
       "182  ...            False              False             True          False   \n",
       "183  ...            False              False            False           True   \n",
       "184  ...            False              False            False          False   \n",
       "185  ...            False              False            False          False   \n",
       "\n",
       "     country_Zambia  country_Zimbabwe  income_class_High income  \\\n",
       "0             False             False                     False   \n",
       "1             False             False                     False   \n",
       "2             False             False                     False   \n",
       "3             False             False                     False   \n",
       "4             False             False                     False   \n",
       "..              ...               ...                       ...   \n",
       "181           False             False                     False   \n",
       "182           False             False                     False   \n",
       "183           False             False                     False   \n",
       "184            True             False                     False   \n",
       "185           False              True                     False   \n",
       "\n",
       "     income_class_Low income  income_class_Lower middle income  \\\n",
       "0                       True                             False   \n",
       "1                      False                             False   \n",
       "2                      False                              True   \n",
       "3                      False                              True   \n",
       "4                      False                             False   \n",
       "..                       ...                               ...   \n",
       "181                    False                              True   \n",
       "182                    False                              True   \n",
       "183                     True                             False   \n",
       "184                    False                              True   \n",
       "185                    False                              True   \n",
       "\n",
       "     income_class_Upper middle income  \n",
       "0                               False  \n",
       "1                                True  \n",
       "2                               False  \n",
       "3                               False  \n",
       "4                                True  \n",
       "..                                ...  \n",
       "181                             False  \n",
       "182                             False  \n",
       "183                             False  \n",
       "184                             False  \n",
       "185                             False  \n",
       "\n",
       "[186 rows x 208 columns]"
      ]
     },
     "execution_count": 42,
     "metadata": {},
     "output_type": "execute_result"
    }
   ],
   "source": [
    "#one hot encoding on categorical data\n",
    "df=pd.get_dummies(df,columns=['country','income_class'])\n",
    "df"
   ]
  },
  {
   "cell_type": "code",
   "execution_count": 43,
   "metadata": {
    "id": "XpIpLAHoeJjH"
   },
   "outputs": [],
   "source": [
    "# #outliers management\n",
    "# for columns in numerical_features:\n",
    "#   Q3=df[columns].quantile(0.75)\n",
    "#   Q1=df[columns].quantile(0.25)\n",
    "#   IQR=Q3-Q1\n",
    "#   Upper_bound=Q3+1.5*IQR\n",
    "#   lower_bound=Q1-1.5*IQR\n",
    "#   print(Upper_bound,'\\t',lower_bound,'\\t', columns)\n",
    "#   df.loc[df[columns]>=Upper_bound,columns]=Upper_bound\n",
    "#   df.loc[df[columns]<=lower_bound,columns]=lower_bound"
   ]
  },
  {
   "cell_type": "code",
   "execution_count": 44,
   "metadata": {
    "id": "1g0rF-mJeQj3"
   },
   "outputs": [],
   "source": [
    "skewness = df.skew()"
   ]
  },
  {
   "cell_type": "code",
   "execution_count": 45,
   "metadata": {
    "id": "7F4gWsOCg358"
   },
   "outputs": [],
   "source": [
    "from scipy.stats import boxcox"
   ]
  },
  {
   "cell_type": "code",
   "execution_count": 46,
   "metadata": {
    "colab": {
     "base_uri": "https://localhost:8080/",
     "height": 461
    },
    "id": "SS6JY2KEetf0",
    "outputId": "923cc486-a619-41c1-8728-6caa36ba11cb"
   },
   "outputs": [
    {
     "data": {
      "text/html": [
       "<div>\n",
       "<style scoped>\n",
       "    .dataframe tbody tr th:only-of-type {\n",
       "        vertical-align: middle;\n",
       "    }\n",
       "\n",
       "    .dataframe tbody tr th {\n",
       "        vertical-align: top;\n",
       "    }\n",
       "\n",
       "    .dataframe thead th {\n",
       "        text-align: right;\n",
       "    }\n",
       "</style>\n",
       "<table border=\"1\" class=\"dataframe\">\n",
       "  <thead>\n",
       "    <tr style=\"text-align: right;\">\n",
       "      <th></th>\n",
       "      <th>electricity_access</th>\n",
       "      <th>gdp</th>\n",
       "      <th>gdp_capita</th>\n",
       "      <th>labor_rate</th>\n",
       "      <th>labor_force</th>\n",
       "      <th>land_area</th>\n",
       "      <th>life_expectancy</th>\n",
       "      <th>adult_literacy</th>\n",
       "      <th>water_access</th>\n",
       "      <th>air_pollution</th>\n",
       "      <th>...</th>\n",
       "      <th>country_Vanuatu</th>\n",
       "      <th>country_Venezuela</th>\n",
       "      <th>country_Vietnam</th>\n",
       "      <th>country_Yemen</th>\n",
       "      <th>country_Zambia</th>\n",
       "      <th>country_Zimbabwe</th>\n",
       "      <th>income_class_High income</th>\n",
       "      <th>income_class_Low income</th>\n",
       "      <th>income_class_Lower middle income</th>\n",
       "      <th>income_class_Upper middle income</th>\n",
       "    </tr>\n",
       "  </thead>\n",
       "  <tbody>\n",
       "    <tr>\n",
       "      <th>0</th>\n",
       "      <td>90.08</td>\n",
       "      <td>1.883323e+10</td>\n",
       "      <td>536.23000</td>\n",
       "      <td>47.28</td>\n",
       "      <td>9103245.75</td>\n",
       "      <td>652230.0</td>\n",
       "      <td>62.97</td>\n",
       "      <td>82.017876</td>\n",
       "      <td>66.61</td>\n",
       "      <td>100.00</td>\n",
       "      <td>...</td>\n",
       "      <td>False</td>\n",
       "      <td>False</td>\n",
       "      <td>False</td>\n",
       "      <td>False</td>\n",
       "      <td>False</td>\n",
       "      <td>False</td>\n",
       "      <td>False</td>\n",
       "      <td>True</td>\n",
       "      <td>False</td>\n",
       "      <td>False</td>\n",
       "    </tr>\n",
       "    <tr>\n",
       "      <th>1</th>\n",
       "      <td>99.94</td>\n",
       "      <td>1.285605e+10</td>\n",
       "      <td>4473.89000</td>\n",
       "      <td>57.54</td>\n",
       "      <td>1362512.25</td>\n",
       "      <td>27400.0</td>\n",
       "      <td>78.93</td>\n",
       "      <td>98.140000</td>\n",
       "      <td>93.92</td>\n",
       "      <td>100.00</td>\n",
       "      <td>...</td>\n",
       "      <td>False</td>\n",
       "      <td>False</td>\n",
       "      <td>False</td>\n",
       "      <td>False</td>\n",
       "      <td>False</td>\n",
       "      <td>False</td>\n",
       "      <td>False</td>\n",
       "      <td>False</td>\n",
       "      <td>False</td>\n",
       "      <td>True</td>\n",
       "    </tr>\n",
       "    <tr>\n",
       "      <th>2</th>\n",
       "      <td>99.49</td>\n",
       "      <td>1.677553e+11</td>\n",
       "      <td>4117.84000</td>\n",
       "      <td>41.79</td>\n",
       "      <td>11979207.50</td>\n",
       "      <td>2381741.0</td>\n",
       "      <td>75.79</td>\n",
       "      <td>81.410000</td>\n",
       "      <td>93.73</td>\n",
       "      <td>100.00</td>\n",
       "      <td>...</td>\n",
       "      <td>False</td>\n",
       "      <td>False</td>\n",
       "      <td>False</td>\n",
       "      <td>False</td>\n",
       "      <td>False</td>\n",
       "      <td>False</td>\n",
       "      <td>False</td>\n",
       "      <td>False</td>\n",
       "      <td>True</td>\n",
       "      <td>False</td>\n",
       "    </tr>\n",
       "    <tr>\n",
       "      <th>3</th>\n",
       "      <td>43.00</td>\n",
       "      <td>7.095638e+10</td>\n",
       "      <td>2395.27000</td>\n",
       "      <td>77.28</td>\n",
       "      <td>12467594.50</td>\n",
       "      <td>1246700.0</td>\n",
       "      <td>61.39</td>\n",
       "      <td>82.017876</td>\n",
       "      <td>55.46</td>\n",
       "      <td>100.00</td>\n",
       "      <td>...</td>\n",
       "      <td>False</td>\n",
       "      <td>False</td>\n",
       "      <td>False</td>\n",
       "      <td>False</td>\n",
       "      <td>False</td>\n",
       "      <td>False</td>\n",
       "      <td>False</td>\n",
       "      <td>False</td>\n",
       "      <td>True</td>\n",
       "      <td>False</td>\n",
       "    </tr>\n",
       "    <tr>\n",
       "      <th>4</th>\n",
       "      <td>99.90</td>\n",
       "      <td>5.801825e+11</td>\n",
       "      <td>13246.88000</td>\n",
       "      <td>59.17</td>\n",
       "      <td>19579367.75</td>\n",
       "      <td>2736690.0</td>\n",
       "      <td>76.73</td>\n",
       "      <td>99.100000</td>\n",
       "      <td>99.01</td>\n",
       "      <td>95.34</td>\n",
       "      <td>...</td>\n",
       "      <td>False</td>\n",
       "      <td>False</td>\n",
       "      <td>False</td>\n",
       "      <td>False</td>\n",
       "      <td>False</td>\n",
       "      <td>False</td>\n",
       "      <td>False</td>\n",
       "      <td>False</td>\n",
       "      <td>False</td>\n",
       "      <td>True</td>\n",
       "    </tr>\n",
       "    <tr>\n",
       "      <th>...</th>\n",
       "      <td>...</td>\n",
       "      <td>...</td>\n",
       "      <td>...</td>\n",
       "      <td>...</td>\n",
       "      <td>...</td>\n",
       "      <td>...</td>\n",
       "      <td>...</td>\n",
       "      <td>...</td>\n",
       "      <td>...</td>\n",
       "      <td>...</td>\n",
       "      <td>...</td>\n",
       "      <td>...</td>\n",
       "      <td>...</td>\n",
       "      <td>...</td>\n",
       "      <td>...</td>\n",
       "      <td>...</td>\n",
       "      <td>...</td>\n",
       "      <td>...</td>\n",
       "      <td>...</td>\n",
       "      <td>...</td>\n",
       "      <td>...</td>\n",
       "    </tr>\n",
       "    <tr>\n",
       "      <th>181</th>\n",
       "      <td>99.62</td>\n",
       "      <td>4.311853e+11</td>\n",
       "      <td>13633.94541</td>\n",
       "      <td>60.58</td>\n",
       "      <td>13210887.75</td>\n",
       "      <td>882050.0</td>\n",
       "      <td>72.25</td>\n",
       "      <td>96.870000</td>\n",
       "      <td>94.31</td>\n",
       "      <td>99.95</td>\n",
       "      <td>...</td>\n",
       "      <td>False</td>\n",
       "      <td>True</td>\n",
       "      <td>False</td>\n",
       "      <td>False</td>\n",
       "      <td>False</td>\n",
       "      <td>False</td>\n",
       "      <td>False</td>\n",
       "      <td>False</td>\n",
       "      <td>True</td>\n",
       "      <td>False</td>\n",
       "    </tr>\n",
       "    <tr>\n",
       "      <th>182</th>\n",
       "      <td>99.61</td>\n",
       "      <td>2.719536e+11</td>\n",
       "      <td>2903.81000</td>\n",
       "      <td>76.38</td>\n",
       "      <td>54856780.25</td>\n",
       "      <td>313400.5</td>\n",
       "      <td>73.94</td>\n",
       "      <td>82.017876</td>\n",
       "      <td>93.84</td>\n",
       "      <td>100.00</td>\n",
       "      <td>...</td>\n",
       "      <td>False</td>\n",
       "      <td>False</td>\n",
       "      <td>True</td>\n",
       "      <td>False</td>\n",
       "      <td>False</td>\n",
       "      <td>False</td>\n",
       "      <td>False</td>\n",
       "      <td>False</td>\n",
       "      <td>True</td>\n",
       "      <td>False</td>\n",
       "    </tr>\n",
       "    <tr>\n",
       "      <th>183</th>\n",
       "      <td>69.37</td>\n",
       "      <td>3.055268e+10</td>\n",
       "      <td>1038.42000</td>\n",
       "      <td>37.45</td>\n",
       "      <td>6526029.50</td>\n",
       "      <td>527970.0</td>\n",
       "      <td>65.62</td>\n",
       "      <td>82.017876</td>\n",
       "      <td>57.27</td>\n",
       "      <td>100.00</td>\n",
       "      <td>...</td>\n",
       "      <td>False</td>\n",
       "      <td>False</td>\n",
       "      <td>False</td>\n",
       "      <td>True</td>\n",
       "      <td>False</td>\n",
       "      <td>False</td>\n",
       "      <td>False</td>\n",
       "      <td>True</td>\n",
       "      <td>False</td>\n",
       "      <td>False</td>\n",
       "    </tr>\n",
       "    <tr>\n",
       "      <th>184</th>\n",
       "      <td>36.75</td>\n",
       "      <td>2.359868e+10</td>\n",
       "      <td>1382.20000</td>\n",
       "      <td>58.70</td>\n",
       "      <td>5499897.00</td>\n",
       "      <td>743390.0</td>\n",
       "      <td>61.87</td>\n",
       "      <td>86.750000</td>\n",
       "      <td>64.39</td>\n",
       "      <td>100.00</td>\n",
       "      <td>...</td>\n",
       "      <td>False</td>\n",
       "      <td>False</td>\n",
       "      <td>False</td>\n",
       "      <td>False</td>\n",
       "      <td>True</td>\n",
       "      <td>False</td>\n",
       "      <td>False</td>\n",
       "      <td>False</td>\n",
       "      <td>True</td>\n",
       "      <td>False</td>\n",
       "    </tr>\n",
       "    <tr>\n",
       "      <th>185</th>\n",
       "      <td>41.39</td>\n",
       "      <td>2.306319e+10</td>\n",
       "      <td>1573.35000</td>\n",
       "      <td>65.91</td>\n",
       "      <td>5551153.50</td>\n",
       "      <td>386850.0</td>\n",
       "      <td>60.51</td>\n",
       "      <td>82.017876</td>\n",
       "      <td>64.24</td>\n",
       "      <td>100.00</td>\n",
       "      <td>...</td>\n",
       "      <td>False</td>\n",
       "      <td>False</td>\n",
       "      <td>False</td>\n",
       "      <td>False</td>\n",
       "      <td>False</td>\n",
       "      <td>True</td>\n",
       "      <td>False</td>\n",
       "      <td>False</td>\n",
       "      <td>True</td>\n",
       "      <td>False</td>\n",
       "    </tr>\n",
       "  </tbody>\n",
       "</table>\n",
       "<p>186 rows × 207 columns</p>\n",
       "</div>"
      ],
      "text/plain": [
       "     electricity_access           gdp   gdp_capita  labor_rate  labor_force  \\\n",
       "0                 90.08  1.883323e+10    536.23000       47.28   9103245.75   \n",
       "1                 99.94  1.285605e+10   4473.89000       57.54   1362512.25   \n",
       "2                 99.49  1.677553e+11   4117.84000       41.79  11979207.50   \n",
       "3                 43.00  7.095638e+10   2395.27000       77.28  12467594.50   \n",
       "4                 99.90  5.801825e+11  13246.88000       59.17  19579367.75   \n",
       "..                  ...           ...          ...         ...          ...   \n",
       "181               99.62  4.311853e+11  13633.94541       60.58  13210887.75   \n",
       "182               99.61  2.719536e+11   2903.81000       76.38  54856780.25   \n",
       "183               69.37  3.055268e+10   1038.42000       37.45   6526029.50   \n",
       "184               36.75  2.359868e+10   1382.20000       58.70   5499897.00   \n",
       "185               41.39  2.306319e+10   1573.35000       65.91   5551153.50   \n",
       "\n",
       "     land_area  life_expectancy  adult_literacy  water_access  air_pollution  \\\n",
       "0     652230.0            62.97       82.017876         66.61         100.00   \n",
       "1      27400.0            78.93       98.140000         93.92         100.00   \n",
       "2    2381741.0            75.79       81.410000         93.73         100.00   \n",
       "3    1246700.0            61.39       82.017876         55.46         100.00   \n",
       "4    2736690.0            76.73       99.100000         99.01          95.34   \n",
       "..         ...              ...             ...           ...            ...   \n",
       "181   882050.0            72.25       96.870000         94.31          99.95   \n",
       "182   313400.5            73.94       82.017876         93.84         100.00   \n",
       "183   527970.0            65.62       82.017876         57.27         100.00   \n",
       "184   743390.0            61.87       86.750000         64.39         100.00   \n",
       "185   386850.0            60.51       82.017876         64.24         100.00   \n",
       "\n",
       "     ...  country_Vanuatu  country_Venezuela  country_Vietnam  country_Yemen  \\\n",
       "0    ...            False              False            False          False   \n",
       "1    ...            False              False            False          False   \n",
       "2    ...            False              False            False          False   \n",
       "3    ...            False              False            False          False   \n",
       "4    ...            False              False            False          False   \n",
       "..   ...              ...                ...              ...            ...   \n",
       "181  ...            False               True            False          False   \n",
       "182  ...            False              False             True          False   \n",
       "183  ...            False              False            False           True   \n",
       "184  ...            False              False            False          False   \n",
       "185  ...            False              False            False          False   \n",
       "\n",
       "     country_Zambia  country_Zimbabwe  income_class_High income  \\\n",
       "0             False             False                     False   \n",
       "1             False             False                     False   \n",
       "2             False             False                     False   \n",
       "3             False             False                     False   \n",
       "4             False             False                     False   \n",
       "..              ...               ...                       ...   \n",
       "181           False             False                     False   \n",
       "182           False             False                     False   \n",
       "183           False             False                     False   \n",
       "184            True             False                     False   \n",
       "185           False              True                     False   \n",
       "\n",
       "     income_class_Low income  income_class_Lower middle income  \\\n",
       "0                       True                             False   \n",
       "1                      False                             False   \n",
       "2                      False                              True   \n",
       "3                      False                              True   \n",
       "4                      False                             False   \n",
       "..                       ...                               ...   \n",
       "181                    False                              True   \n",
       "182                    False                              True   \n",
       "183                     True                             False   \n",
       "184                    False                              True   \n",
       "185                    False                              True   \n",
       "\n",
       "     income_class_Upper middle income  \n",
       "0                               False  \n",
       "1                                True  \n",
       "2                               False  \n",
       "3                               False  \n",
       "4                                True  \n",
       "..                                ...  \n",
       "181                             False  \n",
       "182                             False  \n",
       "183                             False  \n",
       "184                             False  \n",
       "185                             False  \n",
       "\n",
       "[186 rows x 207 columns]"
      ]
     },
     "execution_count": 46,
     "metadata": {},
     "output_type": "execute_result"
    }
   ],
   "source": [
    "X=df.drop(columns='cpi',axis=0)\n",
    "y=df.cpi\n",
    "X"
   ]
  },
  {
   "cell_type": "code",
   "execution_count": 47,
   "metadata": {
    "id": "Q6tPR1K4rqd8"
   },
   "outputs": [],
   "source": [
    "\n",
    "from sklearn.model_selection import train_test_split\n",
    "from sklearn.ensemble import RandomForestRegressor\n"
   ]
  },
  {
   "cell_type": "code",
   "execution_count": 48,
   "metadata": {
    "id": "Yix7Tj9CuCu0"
   },
   "outputs": [],
   "source": [
    "X_train, X_test, y_train, y_test = train_test_split(X, y, test_size=0.2, random_state=42)\n",
    "\n"
   ]
  },
  {
   "cell_type": "code",
   "execution_count": 49,
   "metadata": {
    "colab": {
     "base_uri": "https://localhost:8080/",
     "height": 74
    },
    "id": "l9NF1s_isTyx",
    "outputId": "e5c40f8a-d3cf-41aa-fefc-18ea55af9fb4"
   },
   "outputs": [
    {
     "data": {
      "text/html": [
       "<style>#sk-container-id-1 {color: black;background-color: white;}#sk-container-id-1 pre{padding: 0;}#sk-container-id-1 div.sk-toggleable {background-color: white;}#sk-container-id-1 label.sk-toggleable__label {cursor: pointer;display: block;width: 100%;margin-bottom: 0;padding: 0.3em;box-sizing: border-box;text-align: center;}#sk-container-id-1 label.sk-toggleable__label-arrow:before {content: \"▸\";float: left;margin-right: 0.25em;color: #696969;}#sk-container-id-1 label.sk-toggleable__label-arrow:hover:before {color: black;}#sk-container-id-1 div.sk-estimator:hover label.sk-toggleable__label-arrow:before {color: black;}#sk-container-id-1 div.sk-toggleable__content {max-height: 0;max-width: 0;overflow: hidden;text-align: left;background-color: #f0f8ff;}#sk-container-id-1 div.sk-toggleable__content pre {margin: 0.2em;color: black;border-radius: 0.25em;background-color: #f0f8ff;}#sk-container-id-1 input.sk-toggleable__control:checked~div.sk-toggleable__content {max-height: 200px;max-width: 100%;overflow: auto;}#sk-container-id-1 input.sk-toggleable__control:checked~label.sk-toggleable__label-arrow:before {content: \"▾\";}#sk-container-id-1 div.sk-estimator input.sk-toggleable__control:checked~label.sk-toggleable__label {background-color: #d4ebff;}#sk-container-id-1 div.sk-label input.sk-toggleable__control:checked~label.sk-toggleable__label {background-color: #d4ebff;}#sk-container-id-1 input.sk-hidden--visually {border: 0;clip: rect(1px 1px 1px 1px);clip: rect(1px, 1px, 1px, 1px);height: 1px;margin: -1px;overflow: hidden;padding: 0;position: absolute;width: 1px;}#sk-container-id-1 div.sk-estimator {font-family: monospace;background-color: #f0f8ff;border: 1px dotted black;border-radius: 0.25em;box-sizing: border-box;margin-bottom: 0.5em;}#sk-container-id-1 div.sk-estimator:hover {background-color: #d4ebff;}#sk-container-id-1 div.sk-parallel-item::after {content: \"\";width: 100%;border-bottom: 1px solid gray;flex-grow: 1;}#sk-container-id-1 div.sk-label:hover label.sk-toggleable__label {background-color: #d4ebff;}#sk-container-id-1 div.sk-serial::before {content: \"\";position: absolute;border-left: 1px solid gray;box-sizing: border-box;top: 0;bottom: 0;left: 50%;z-index: 0;}#sk-container-id-1 div.sk-serial {display: flex;flex-direction: column;align-items: center;background-color: white;padding-right: 0.2em;padding-left: 0.2em;position: relative;}#sk-container-id-1 div.sk-item {position: relative;z-index: 1;}#sk-container-id-1 div.sk-parallel {display: flex;align-items: stretch;justify-content: center;background-color: white;position: relative;}#sk-container-id-1 div.sk-item::before, #sk-container-id-1 div.sk-parallel-item::before {content: \"\";position: absolute;border-left: 1px solid gray;box-sizing: border-box;top: 0;bottom: 0;left: 50%;z-index: -1;}#sk-container-id-1 div.sk-parallel-item {display: flex;flex-direction: column;z-index: 1;position: relative;background-color: white;}#sk-container-id-1 div.sk-parallel-item:first-child::after {align-self: flex-end;width: 50%;}#sk-container-id-1 div.sk-parallel-item:last-child::after {align-self: flex-start;width: 50%;}#sk-container-id-1 div.sk-parallel-item:only-child::after {width: 0;}#sk-container-id-1 div.sk-dashed-wrapped {border: 1px dashed gray;margin: 0 0.4em 0.5em 0.4em;box-sizing: border-box;padding-bottom: 0.4em;background-color: white;}#sk-container-id-1 div.sk-label label {font-family: monospace;font-weight: bold;display: inline-block;line-height: 1.2em;}#sk-container-id-1 div.sk-label-container {text-align: center;}#sk-container-id-1 div.sk-container {/* jupyter's `normalize.less` sets `[hidden] { display: none; }` but bootstrap.min.css set `[hidden] { display: none !important; }` so we also need the `!important` here to be able to override the default hidden behavior on the sphinx rendered scikit-learn.org. See: https://github.com/scikit-learn/scikit-learn/issues/21755 */display: inline-block !important;position: relative;}#sk-container-id-1 div.sk-text-repr-fallback {display: none;}</style><div id=\"sk-container-id-1\" class=\"sk-top-container\"><div class=\"sk-text-repr-fallback\"><pre>RandomForestRegressor(n_estimators=10, random_state=0)</pre><b>In a Jupyter environment, please rerun this cell to show the HTML representation or trust the notebook. <br />On GitHub, the HTML representation is unable to render, please try loading this page with nbviewer.org.</b></div><div class=\"sk-container\" hidden><div class=\"sk-item\"><div class=\"sk-estimator sk-toggleable\"><input class=\"sk-toggleable__control sk-hidden--visually\" id=\"sk-estimator-id-1\" type=\"checkbox\" checked><label for=\"sk-estimator-id-1\" class=\"sk-toggleable__label sk-toggleable__label-arrow\">RandomForestRegressor</label><div class=\"sk-toggleable__content\"><pre>RandomForestRegressor(n_estimators=10, random_state=0)</pre></div></div></div></div></div>"
      ],
      "text/plain": [
       "RandomForestRegressor(n_estimators=10, random_state=0)"
      ]
     },
     "execution_count": 49,
     "metadata": {},
     "output_type": "execute_result"
    }
   ],
   "source": [
    "regressor = RandomForestRegressor(n_estimators=10, random_state=0)\n",
    "regressor.fit(X_train, y_train)"
   ]
  },
  {
   "cell_type": "code",
   "execution_count": 50,
   "metadata": {
    "colab": {
     "base_uri": "https://localhost:8080/"
    },
    "id": "iYU6jmxRtGKO",
    "outputId": "efa69fba-0fa7-4aee-8994-584de69b69ff"
   },
   "outputs": [
    {
     "name": "stdout",
     "output_type": "stream",
     "text": [
      "        Actual  Predicted\n",
      "113  45.000000  45.051274\n",
      "164  33.500000  22.450000\n",
      "169  39.000000  48.901821\n",
      "101  82.250000  78.325000\n",
      "100  59.000000  58.750000\n",
      "15   42.922737  49.485547\n",
      "177  74.000000  81.600000\n",
      "35   26.000000  42.167274\n",
      "119  82.750000  78.025000\n",
      "152  43.750000  33.475000\n",
      "24   40.750000  22.175000\n",
      "76   77.500000  87.325000\n",
      "156  56.670000  52.851274\n",
      "118  29.500000  30.400000\n",
      "68   27.750000  30.950000\n",
      "16   38.000000  26.975000\n",
      "122  34.000000  26.400000\n",
      "30   23.250000  22.150000\n",
      "136  64.250000  76.275000\n",
      "19   38.250000  39.117000\n",
      "75   47.500000  51.625000\n",
      "115  26.500000  25.650000\n",
      "126  46.500000  48.134547\n",
      "147  84.500000  76.400000\n",
      "69   26.750000  24.850000\n",
      "9    65.330000  51.286095\n",
      "128  37.750000  58.150000\n",
      "137  47.250000  48.500000\n",
      "18   32.250000  33.050000\n",
      "165  36.500000  32.775000\n",
      "176  81.000000  73.625000\n",
      "171  41.000000  33.575000\n",
      "42   58.000000  58.543274\n",
      "111  31.750000  34.759547\n",
      "45   31.500000  42.643000\n",
      "67   42.922737  64.842547\n",
      "161  85.500000  79.350000\n",
      "29   82.000000  85.475000\n"
     ]
    }
   ],
   "source": [
    "y_pred = regressor.predict(X_test)\n",
    "\n",
    "# Create a DataFrame to display the actual values and predicted values\n",
    "predictions_df = pd.DataFrame({'Actual': y_test, 'Predicted': y_pred})\n",
    "print(predictions_df)"
   ]
  },
  {
   "cell_type": "code",
   "execution_count": 51,
   "metadata": {
    "colab": {
     "base_uri": "https://localhost:8080/"
    },
    "id": "xDxdObMgtGCV",
    "outputId": "bed5b134-a7a5-47d2-f162-348165b98fdf"
   },
   "outputs": [
    {
     "name": "stdout",
     "output_type": "stream",
     "text": [
      "Mean Squared Error: 79.2451138478701\n",
      "MAE:6.771394442810937\n",
      "R-squared: 0.7906143785430585\n"
     ]
    }
   ],
   "source": [
    "from sklearn.metrics import mean_squared_error, r2_score, mean_absolute_error\n",
    "mse = mean_squared_error(y_test, y_pred)\n",
    "print(f'Mean Squared Error: {mse}')\n",
    "mae = mean_absolute_error(y_test, y_pred)\n",
    "print(f'MAE:{mae}')\n",
    "\n",
    "r2 = r2_score(y_test, y_pred)\n",
    "print(f'R-squared: {r2}')\n"
   ]
  },
  {
   "cell_type": "code",
   "execution_count": 52,
   "metadata": {
    "colab": {
     "base_uri": "https://localhost:8080/"
    },
    "id": "pGDoILHYFJu1",
    "outputId": "d2e7cffd-eeee-4a41-aca5-3ef1a07b2cba"
   },
   "outputs": [
    {
     "name": "stdout",
     "output_type": "stream",
     "text": [
      "0.15677635737884663\n"
     ]
    }
   ],
   "source": [
    "\n",
    "\n",
    "\n",
    "t=[]\n",
    "for i in range(len(y_test)):\n",
    "  t.append(abs(predictions_df.iloc[i,0]-predictions_df.iloc[i,1])/predictions_df.iloc[i,0])\n",
    "print(sum(t)/len(t))"
   ]
  },
  {
   "cell_type": "code",
   "execution_count": 53,
   "metadata": {
    "id": "ZvLZSu1sizPZ"
   },
   "outputs": [],
   "source": [
    "import pickle\n",
    "filename = 'modelforcpi.sav'\n",
    "pickle.dump(regressor, open(filename, 'wb'))"
   ]
  },
  {
   "cell_type": "code",
   "execution_count": 54,
   "metadata": {
    "colab": {
     "base_uri": "https://localhost:8080/"
    },
    "id": "BvhwawxEk8-J",
    "outputId": "cba893dd-2562-42da-d7a6-47bce03384a6"
   },
   "outputs": [
    {
     "data": {
      "text/plain": [
       "['electricity_access',\n",
       " 'gdp',\n",
       " 'gdp_capita',\n",
       " 'labor_rate',\n",
       " 'labor_force',\n",
       " 'land_area',\n",
       " 'life_expectancy',\n",
       " 'adult_literacy',\n",
       " 'water_access',\n",
       " 'air_pollution',\n",
       " 'population_density',\n",
       " 'population',\n",
       " 'alcohol_consumption',\n",
       " 'unemployment_rate',\n",
       " 'social_support',\n",
       " 'freedom',\n",
       " 'generosity',\n",
       " 'country_Afghanistan',\n",
       " 'country_Albania',\n",
       " 'country_Algeria',\n",
       " 'country_Angola',\n",
       " 'country_Argentina',\n",
       " 'country_Armenia',\n",
       " 'country_Australia',\n",
       " 'country_Austria',\n",
       " 'country_Azerbaijan',\n",
       " 'country_Bahamas, The',\n",
       " 'country_Bahrain',\n",
       " 'country_Bangladesh',\n",
       " 'country_Barbados',\n",
       " 'country_Belarus',\n",
       " 'country_Belgium',\n",
       " 'country_Belize',\n",
       " 'country_Benin',\n",
       " 'country_Bhutan',\n",
       " 'country_Bolivia',\n",
       " 'country_Bosnia and Herzegovina',\n",
       " 'country_Botswana',\n",
       " 'country_Brazil',\n",
       " 'country_Brunei Darussalam',\n",
       " 'country_Bulgaria',\n",
       " 'country_Burkina Faso',\n",
       " 'country_Burundi',\n",
       " 'country_Cabo Verde',\n",
       " 'country_Cambodia',\n",
       " 'country_Cameroon',\n",
       " 'country_Canada',\n",
       " 'country_Central African Republic',\n",
       " 'country_Chad',\n",
       " 'country_Chile',\n",
       " 'country_China',\n",
       " 'country_Colombia',\n",
       " 'country_Comoros',\n",
       " 'country_Congo, Dem. Rep.',\n",
       " 'country_Congo, Rep.',\n",
       " 'country_Costa Rica',\n",
       " \"country_Cote d'Ivoire\",\n",
       " 'country_Croatia',\n",
       " 'country_Cuba',\n",
       " 'country_Cyprus',\n",
       " 'country_Czechia',\n",
       " 'country_Denmark',\n",
       " 'country_Djibouti',\n",
       " 'country_Dominica',\n",
       " 'country_Dominican Republic',\n",
       " 'country_Ecuador',\n",
       " 'country_Egypt',\n",
       " 'country_El Salvador',\n",
       " 'country_Equatorial Guinea',\n",
       " 'country_Eritrea',\n",
       " 'country_Estonia',\n",
       " 'country_Eswatini',\n",
       " 'country_Ethiopia',\n",
       " 'country_Fiji',\n",
       " 'country_Finland',\n",
       " 'country_France',\n",
       " 'country_French Polynesia',\n",
       " 'country_Gabon',\n",
       " 'country_Gambia',\n",
       " 'country_Georgia',\n",
       " 'country_Germany',\n",
       " 'country_Ghana',\n",
       " 'country_Greece',\n",
       " 'country_Grenada',\n",
       " 'country_Guam',\n",
       " 'country_Guatemala',\n",
       " 'country_Guinea',\n",
       " 'country_Guinea-Bissau',\n",
       " 'country_Guyana',\n",
       " 'country_Haiti',\n",
       " 'country_Honduras',\n",
       " 'country_Hong Kong',\n",
       " 'country_Hungary',\n",
       " 'country_Iceland',\n",
       " 'country_India',\n",
       " 'country_Indonesia',\n",
       " 'country_Iran',\n",
       " 'country_Iraq',\n",
       " 'country_Ireland',\n",
       " 'country_Israel',\n",
       " 'country_Italy',\n",
       " 'country_Jamaica',\n",
       " 'country_Japan',\n",
       " 'country_Jordan',\n",
       " 'country_Kazakhstan',\n",
       " 'country_Kenya',\n",
       " \"country_Korea, Dem. People's Rep.\",\n",
       " 'country_Korea, Rep.',\n",
       " 'country_Kosovo',\n",
       " 'country_Kuwait',\n",
       " 'country_Kyrgyzstan',\n",
       " 'country_Lao PDR',\n",
       " 'country_Latvia',\n",
       " 'country_Lebanon',\n",
       " 'country_Lesotho',\n",
       " 'country_Liberia',\n",
       " 'country_Libya',\n",
       " 'country_Lithuania',\n",
       " 'country_Luxembourg',\n",
       " 'country_Madagascar',\n",
       " 'country_Malawi',\n",
       " 'country_Malaysia',\n",
       " 'country_Maldives',\n",
       " 'country_Mali',\n",
       " 'country_Malta',\n",
       " 'country_Mauritania',\n",
       " 'country_Mauritius',\n",
       " 'country_Mexico',\n",
       " 'country_Moldova',\n",
       " 'country_Mongolia',\n",
       " 'country_Montenegro',\n",
       " 'country_Morocco',\n",
       " 'country_Mozambique',\n",
       " 'country_Myanmar',\n",
       " 'country_Namibia',\n",
       " 'country_Nepal',\n",
       " 'country_Netherlands',\n",
       " 'country_New Zealand',\n",
       " 'country_Nicaragua',\n",
       " 'country_Niger',\n",
       " 'country_Nigeria',\n",
       " 'country_North Macedonia',\n",
       " 'country_Norway',\n",
       " 'country_Oman',\n",
       " 'country_Pakistan',\n",
       " 'country_Panama',\n",
       " 'country_Papua New Guinea',\n",
       " 'country_Paraguay',\n",
       " 'country_Peru',\n",
       " 'country_Philippines',\n",
       " 'country_Poland',\n",
       " 'country_Portugal',\n",
       " 'country_Puerto Rico',\n",
       " 'country_Qatar',\n",
       " 'country_Romania',\n",
       " 'country_Russia',\n",
       " 'country_Rwanda',\n",
       " 'country_Samoa',\n",
       " 'country_Saudi Arabia',\n",
       " 'country_Senegal',\n",
       " 'country_Serbia',\n",
       " 'country_Seychelles',\n",
       " 'country_Sierra Leone',\n",
       " 'country_Singapore',\n",
       " 'country_Slovak Republic',\n",
       " 'country_Slovenia',\n",
       " 'country_Solomon Islands',\n",
       " 'country_Somalia',\n",
       " 'country_South Africa',\n",
       " 'country_South Sudan',\n",
       " 'country_Spain',\n",
       " 'country_Sri Lanka',\n",
       " 'country_St. Lucia',\n",
       " 'country_St. Vincent and the Grenadines',\n",
       " 'country_Sudan',\n",
       " 'country_Suriname',\n",
       " 'country_Sweden',\n",
       " 'country_Switzerland',\n",
       " 'country_Syria',\n",
       " 'country_São Tomé and Príncipe',\n",
       " 'country_Tajikistan',\n",
       " 'country_Tanzania',\n",
       " 'country_Thailand',\n",
       " 'country_Timor-Leste',\n",
       " 'country_Togo',\n",
       " 'country_Tonga',\n",
       " 'country_Trinidad and Tobago',\n",
       " 'country_Tunisia',\n",
       " 'country_Turkey',\n",
       " 'country_Turkmenistan',\n",
       " 'country_Uganda',\n",
       " 'country_Ukraine',\n",
       " 'country_United Arab Emirates',\n",
       " 'country_United Kingdom',\n",
       " 'country_United States',\n",
       " 'country_Uruguay',\n",
       " 'country_Uzbekistan',\n",
       " 'country_Vanuatu',\n",
       " 'country_Venezuela',\n",
       " 'country_Vietnam',\n",
       " 'country_Yemen',\n",
       " 'country_Zambia',\n",
       " 'country_Zimbabwe',\n",
       " 'income_class_High income',\n",
       " 'income_class_Low income',\n",
       " 'income_class_Lower middle income',\n",
       " 'income_class_Upper middle income']"
      ]
     },
     "execution_count": 54,
     "metadata": {},
     "output_type": "execute_result"
    }
   ],
   "source": [
    "list(X_test.columns)"
   ]
  },
  {
   "cell_type": "code",
   "execution_count": 55,
   "metadata": {
    "colab": {
     "base_uri": "https://localhost:8080/"
    },
    "id": "FIYIvfJlOdrZ",
    "outputId": "12c7b9db-70bb-4494-dfa2-084a07dc74be"
   },
   "outputs": [
    {
     "name": "stdout",
     "output_type": "stream",
     "text": [
      "[100.0, 12082700000.0, 30398.36, 73.56, 227095.5, 10010.0, 73.52, 82.01787610619469, 98.89, 100.0, 39.7, 397399.75, 4.3611, 11.125, 0.7987581699346404, 0.7684967320261438, -0.0013092105263157899, False, False, False, False, False, False, False, False, False, True, False, False, False, False, False, False, False, False, False, False, False, False, False, False, False, False, False, False, False, False, False, False, False, False, False, False, False, False, False, False, False, False, False, False, False, False, False, False, False, False, False, False, False, False, False, False, False, False, False, False, False, False, False, False, False, False, False, False, False, False, False, False, False, False, False, False, False, False, False, False, False, False, False, False, False, False, False, False, False, False, False, False, False, False, False, False, False, False, False, False, False, False, False, False, False, False, False, False, False, False, False, False, False, False, False, False, False, False, False, False, False, False, False, False, False, False, False, False, False, False, False, False, False, False, False, False, False, False, False, False, False, False, False, False, False, False, False, False, False, False, False, False, False, False, False, False, False, False, False, False, False, False, False, False, False, False, False, False, False, False, False, False, False, False, False, False, False, False, False, False, False, False, False, False, False, False, True, False, False, False]\n"
     ]
    }
   ],
   "source": [
    "with pd.option_context('display.max_rows', None, 'display.max_columns', None):  # more options can be specified also\n",
    "    print(list(X.iloc[9,:]))"
   ]
  },
  {
   "cell_type": "code",
   "execution_count": 56,
   "metadata": {
    "colab": {
     "base_uri": "https://localhost:8080/"
    },
    "id": "Cb91HGKNQlAo",
    "outputId": "c7c0ca08-3aa4-4dd1-c3cd-80cbf3852af2"
   },
   "outputs": [
    {
     "data": {
      "text/plain": [
       "True"
      ]
     },
     "execution_count": 56,
     "metadata": {},
     "output_type": "execute_result"
    }
   ],
   "source": [
    "c = [100.0, 12082700000.0, 30398.36, 73.56, 227095.5, 10010.0, 73.52, 82.017876, 98.89, 100.0, 39.7, 397399.75, 4.3611, 11.125, 0.798758, 0.768497, -0.001309, 0, 0, 0, 0, 0, 0, 0, 0, 0, 1, 0, 0, 0, 0, 0, 0, 0, 0, 0, 0, 0, 0, 0, 0, 0, 0, 0, 0, 0, 0, 0, 0, 0, 0, 0, 0, 0, 0, 0, 0, 0, 0, 0, 0, 0, 0, 0, 0, 0, 0, 0, 0, 0, 0, 0, 0, 0, 0, 0, 0, 0, 0, 0, 0, 0, 0, 0, 0, 0, 0, 0, 0, 0, 0, 0, 0, 0, 0, 0, 0, 0, 0, 0, 0, 0, 0, 0, 0, 0, 0, 0, 0, 0, 0, 0, 0, 0, 0, 0, 0, 0, 0, 0, 0, 0, 0, 0, 0, 0, 0, 0, 0, 0, 0, 0, 0, 0, 0, 0, 0, 0, 0, 0, 0, 0, 0, 0, 0, 0, 0, 0, 0, 0, 0, 0, 0, 0, 0, 0, 0, 0, 0, 0, 0, 0, 0, 0, 0, 0, 0, 0, 0, 0, 0, 0, 0, 0, 0, 0, 0, 0, 0, 0, 0, 0, 0, 0, 0, 0, 0, 0, 0, 0, 0, 0, 0, 0, 0, 0, 0, 0, 0, 0, 0, 0, 0, 1, 0, 0, 0]\n",
    "list(X.iloc[9,:])[17:] == c[17:]"
   ]
  },
  {
   "cell_type": "code",
   "execution_count": 57,
   "metadata": {
    "colab": {
     "base_uri": "https://localhost:8080/"
    },
    "id": "_jJ8aGnwWlEF",
    "outputId": "ba39da28-6924-449d-b336-ea6422bacb9b"
   },
   "outputs": [
    {
     "name": "stderr",
     "output_type": "stream",
     "text": [
      "C:\\Users\\Ashish Kumar Singh\\anaconda3\\Lib\\site-packages\\sklearn\\base.py:439: UserWarning: X does not have valid feature names, but RandomForestRegressor was fitted with feature names\n",
      "  warnings.warn(\n"
     ]
    },
    {
     "data": {
      "text/plain": [
       "array([51.28609497])"
      ]
     },
     "execution_count": 57,
     "metadata": {},
     "output_type": "execute_result"
    }
   ],
   "source": [
    "regressor.predict([[100.0, 12082700000.0, 30398.36, 73.56, 227095.5, 10010.0, 73.52, 82.01787610619469, 98.89, 100.0, 39.7, 397399.75, 4.3611, 11.125, 0.7987581699346404, 0.7684967320261438, -0.0013092105263157899, False, False, False, False, False, False, False, False, False, True, False, False, False, False, False, False, False, False, False, False, False, False, False, False, False, False, False, False, False, False, False, False, False, False, False, False, False, False, False, False, False, False, False, False, False, False, False, False, False, False, False, False, False, False, False, False, False, False, False, False, False, False, False, False, False, False, False, False, False, False, False, False, False, False, False, False, False, False, False, False, False, False, False, False, False, False, False, False, False, False, False, False, False, False, False, False, False, False, False, False, False, False, False, False, False, False, False, False, False, False, False, False, False, False, False, False, False, False, False, False, False, False, False, False, False, False, False, False, False, False, False, False, False, False, False, False, False, False, False, False, False, False, False, False, False, False, False, False, False, False, False, False, False, False, False, False, False, False, False, False, False, False, False, False, False, False, False, False, False, False, False, False, False, False, False, False, False, False, False, False, False, False, False, False, False, False, True, False, False, False]])"
   ]
  },
  {
   "cell_type": "code",
   "execution_count": 58,
   "metadata": {
    "colab": {
     "base_uri": "https://localhost:8080/"
    },
    "id": "NzgUn2XuWs7k",
    "outputId": "2825855d-8a4f-4ad7-ed01-fedc1a56d618"
   },
   "outputs": [
    {
     "data": {
      "text/plain": [
       "[100.0,\n",
       " 12082700000.0,\n",
       " 30398.36,\n",
       " 73.56,\n",
       " 227095.5,\n",
       " 10010.0,\n",
       " 73.52,\n",
       " 82.01787610619469,\n",
       " 98.89,\n",
       " 100.0,\n",
       " 39.7,\n",
       " 397399.75,\n",
       " 4.3611,\n",
       " 11.125,\n",
       " 0.7987581699346404,\n",
       " 0.7684967320261438,\n",
       " -0.0013092105263157899,\n",
       " False,\n",
       " False,\n",
       " False,\n",
       " False,\n",
       " False,\n",
       " False,\n",
       " False,\n",
       " False,\n",
       " False,\n",
       " True,\n",
       " False,\n",
       " False,\n",
       " False,\n",
       " False,\n",
       " False,\n",
       " False,\n",
       " False,\n",
       " False,\n",
       " False,\n",
       " False,\n",
       " False,\n",
       " False,\n",
       " False,\n",
       " False,\n",
       " False,\n",
       " False,\n",
       " False,\n",
       " False,\n",
       " False,\n",
       " False,\n",
       " False,\n",
       " False,\n",
       " False,\n",
       " False,\n",
       " False,\n",
       " False,\n",
       " False,\n",
       " False,\n",
       " False,\n",
       " False,\n",
       " False,\n",
       " False,\n",
       " False,\n",
       " False,\n",
       " False,\n",
       " False,\n",
       " False,\n",
       " False,\n",
       " False,\n",
       " False,\n",
       " False,\n",
       " False,\n",
       " False,\n",
       " False,\n",
       " False,\n",
       " False,\n",
       " False,\n",
       " False,\n",
       " False,\n",
       " False,\n",
       " False,\n",
       " False,\n",
       " False,\n",
       " False,\n",
       " False,\n",
       " False,\n",
       " False,\n",
       " False,\n",
       " False,\n",
       " False,\n",
       " False,\n",
       " False,\n",
       " False,\n",
       " False,\n",
       " False,\n",
       " False,\n",
       " False,\n",
       " False,\n",
       " False,\n",
       " False,\n",
       " False,\n",
       " False,\n",
       " False,\n",
       " False,\n",
       " False,\n",
       " False,\n",
       " False,\n",
       " False,\n",
       " False,\n",
       " False,\n",
       " False,\n",
       " False,\n",
       " False,\n",
       " False,\n",
       " False,\n",
       " False,\n",
       " False,\n",
       " False,\n",
       " False,\n",
       " False,\n",
       " False,\n",
       " False,\n",
       " False,\n",
       " False,\n",
       " False,\n",
       " False,\n",
       " False,\n",
       " False,\n",
       " False,\n",
       " False,\n",
       " False,\n",
       " False,\n",
       " False,\n",
       " False,\n",
       " False,\n",
       " False,\n",
       " False,\n",
       " False,\n",
       " False,\n",
       " False,\n",
       " False,\n",
       " False,\n",
       " False,\n",
       " False,\n",
       " False,\n",
       " False,\n",
       " False,\n",
       " False,\n",
       " False,\n",
       " False,\n",
       " False,\n",
       " False,\n",
       " False,\n",
       " False,\n",
       " False,\n",
       " False,\n",
       " False,\n",
       " False,\n",
       " False,\n",
       " False,\n",
       " False,\n",
       " False,\n",
       " False,\n",
       " False,\n",
       " False,\n",
       " False,\n",
       " False,\n",
       " False,\n",
       " False,\n",
       " False,\n",
       " False,\n",
       " False,\n",
       " False,\n",
       " False,\n",
       " False,\n",
       " False,\n",
       " False,\n",
       " False,\n",
       " False,\n",
       " False,\n",
       " False,\n",
       " False,\n",
       " False,\n",
       " False,\n",
       " False,\n",
       " False,\n",
       " False,\n",
       " False,\n",
       " False,\n",
       " False,\n",
       " False,\n",
       " False,\n",
       " False,\n",
       " False,\n",
       " False,\n",
       " False,\n",
       " False,\n",
       " False,\n",
       " False,\n",
       " False,\n",
       " False,\n",
       " False,\n",
       " False,\n",
       " False,\n",
       " False,\n",
       " False,\n",
       " True,\n",
       " False,\n",
       " False,\n",
       " False]"
      ]
     },
     "execution_count": 58,
     "metadata": {},
     "output_type": "execute_result"
    }
   ],
   "source": [
    "list(X.iloc[9,:])"
   ]
  }
 ],
 "metadata": {
  "colab": {
   "provenance": []
  },
  "kernelspec": {
   "display_name": "Python 3 (ipykernel)",
   "language": "python",
   "name": "python3"
  },
  "language_info": {
   "codemirror_mode": {
    "name": "ipython",
    "version": 3
   },
   "file_extension": ".py",
   "mimetype": "text/x-python",
   "name": "python",
   "nbconvert_exporter": "python",
   "pygments_lexer": "ipython3",
   "version": "3.11.7"
  }
 },
 "nbformat": 4,
 "nbformat_minor": 4
}
